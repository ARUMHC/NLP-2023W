{
 "cells": [
  {
   "cell_type": "markdown",
   "id": "15dc7f28",
   "metadata": {},
   "source": [
    "# EDA"
   ]
  },
  {
   "cell_type": "code",
   "execution_count": 1,
   "id": "384b5b45",
   "metadata": {},
   "outputs": [],
   "source": [
    "import pandas as pd\n",
    "import numpy as np"
   ]
  },
  {
   "cell_type": "code",
   "execution_count": 2,
   "id": "829330f0",
   "metadata": {},
   "outputs": [],
   "source": [
    "questions = pd.read_csv(\"qg/train.txt.target.txt\", sep='|', header=None).rename(columns={0: 'question'})"
   ]
  },
  {
   "cell_type": "code",
   "execution_count": 3,
   "id": "c0861c27",
   "metadata": {
    "scrolled": true
   },
   "outputs": [
    {
     "data": {
      "text/html": [
       "<div>\n",
       "<style scoped>\n",
       "    .dataframe tbody tr th:only-of-type {\n",
       "        vertical-align: middle;\n",
       "    }\n",
       "\n",
       "    .dataframe tbody tr th {\n",
       "        vertical-align: top;\n",
       "    }\n",
       "\n",
       "    .dataframe thead th {\n",
       "        text-align: right;\n",
       "    }\n",
       "</style>\n",
       "<table border=\"1\" class=\"dataframe\">\n",
       "  <thead>\n",
       "    <tr style=\"text-align: right;\">\n",
       "      <th></th>\n",
       "      <th>question</th>\n",
       "    </tr>\n",
       "  </thead>\n",
       "  <tbody>\n",
       "    <tr>\n",
       "      <th>0</th>\n",
       "      <td>to whom did the virgin mary allegedly appear i...</td>\n",
       "    </tr>\n",
       "    <tr>\n",
       "      <th>1</th>\n",
       "      <td>what is in front of the notre dame main buildi...</td>\n",
       "    </tr>\n",
       "    <tr>\n",
       "      <th>2</th>\n",
       "      <td>the basilica of the sacred heart at notre dame...</td>\n",
       "    </tr>\n",
       "    <tr>\n",
       "      <th>3</th>\n",
       "      <td>what is the grotto at notre dame ?</td>\n",
       "    </tr>\n",
       "    <tr>\n",
       "      <th>4</th>\n",
       "      <td>what sits on top of the main building at notre...</td>\n",
       "    </tr>\n",
       "    <tr>\n",
       "      <th>...</th>\n",
       "      <td>...</td>\n",
       "    </tr>\n",
       "    <tr>\n",
       "      <th>86630</th>\n",
       "      <td>in what us state did kathmandu first establish...</td>\n",
       "    </tr>\n",
       "    <tr>\n",
       "      <th>86631</th>\n",
       "      <td>what was yangon previously known as ?</td>\n",
       "    </tr>\n",
       "    <tr>\n",
       "      <th>86632</th>\n",
       "      <td>with what belorussian city does kathmandu have...</td>\n",
       "    </tr>\n",
       "    <tr>\n",
       "      <th>86633</th>\n",
       "      <td>in what year did kathmandu create its initial ...</td>\n",
       "    </tr>\n",
       "    <tr>\n",
       "      <th>86634</th>\n",
       "      <td>what is kmc an initialism of ?</td>\n",
       "    </tr>\n",
       "  </tbody>\n",
       "</table>\n",
       "<p>86635 rows × 1 columns</p>\n",
       "</div>"
      ],
      "text/plain": [
       "                                                question\n",
       "0      to whom did the virgin mary allegedly appear i...\n",
       "1      what is in front of the notre dame main buildi...\n",
       "2      the basilica of the sacred heart at notre dame...\n",
       "3                     what is the grotto at notre dame ?\n",
       "4      what sits on top of the main building at notre...\n",
       "...                                                  ...\n",
       "86630  in what us state did kathmandu first establish...\n",
       "86631              what was yangon previously known as ?\n",
       "86632  with what belorussian city does kathmandu have...\n",
       "86633  in what year did kathmandu create its initial ...\n",
       "86634                     what is kmc an initialism of ?\n",
       "\n",
       "[86635 rows x 1 columns]"
      ]
     },
     "execution_count": 3,
     "metadata": {},
     "output_type": "execute_result"
    }
   ],
   "source": [
    "questions"
   ]
  },
  {
   "cell_type": "code",
   "execution_count": 4,
   "id": "b11369db",
   "metadata": {},
   "outputs": [],
   "source": [
    "with open('labels.json', 'r') as file:\n",
    "    data = file.read().rstrip()\n",
    "label_list = eval(data)"
   ]
  },
  {
   "cell_type": "code",
   "execution_count": 5,
   "id": "6517e8ab",
   "metadata": {
    "scrolled": false
   },
   "outputs": [
    {
     "data": {
      "text/html": [
       "<div>\n",
       "<style scoped>\n",
       "    .dataframe tbody tr th:only-of-type {\n",
       "        vertical-align: middle;\n",
       "    }\n",
       "\n",
       "    .dataframe tbody tr th {\n",
       "        vertical-align: top;\n",
       "    }\n",
       "\n",
       "    .dataframe thead th {\n",
       "        text-align: right;\n",
       "    }\n",
       "</style>\n",
       "<table border=\"1\" class=\"dataframe\">\n",
       "  <thead>\n",
       "    <tr style=\"text-align: right;\">\n",
       "      <th></th>\n",
       "      <th>question</th>\n",
       "      <th>label</th>\n",
       "    </tr>\n",
       "  </thead>\n",
       "  <tbody>\n",
       "    <tr>\n",
       "      <th>0</th>\n",
       "      <td>to whom did the virgin mary allegedly appear i...</td>\n",
       "      <td>1</td>\n",
       "    </tr>\n",
       "    <tr>\n",
       "      <th>1</th>\n",
       "      <td>what is in front of the notre dame main buildi...</td>\n",
       "      <td>1</td>\n",
       "    </tr>\n",
       "    <tr>\n",
       "      <th>2</th>\n",
       "      <td>the basilica of the sacred heart at notre dame...</td>\n",
       "      <td>1</td>\n",
       "    </tr>\n",
       "    <tr>\n",
       "      <th>3</th>\n",
       "      <td>what is the grotto at notre dame ?</td>\n",
       "      <td>1</td>\n",
       "    </tr>\n",
       "    <tr>\n",
       "      <th>4</th>\n",
       "      <td>what sits on top of the main building at notre...</td>\n",
       "      <td>1</td>\n",
       "    </tr>\n",
       "    <tr>\n",
       "      <th>...</th>\n",
       "      <td>...</td>\n",
       "      <td>...</td>\n",
       "    </tr>\n",
       "    <tr>\n",
       "      <th>86630</th>\n",
       "      <td>in what us state did kathmandu first establish...</td>\n",
       "      <td>-1</td>\n",
       "    </tr>\n",
       "    <tr>\n",
       "      <th>86631</th>\n",
       "      <td>what was yangon previously known as ?</td>\n",
       "      <td>-1</td>\n",
       "    </tr>\n",
       "    <tr>\n",
       "      <th>86632</th>\n",
       "      <td>with what belorussian city does kathmandu have...</td>\n",
       "      <td>-1</td>\n",
       "    </tr>\n",
       "    <tr>\n",
       "      <th>86633</th>\n",
       "      <td>in what year did kathmandu create its initial ...</td>\n",
       "      <td>-1</td>\n",
       "    </tr>\n",
       "    <tr>\n",
       "      <th>86634</th>\n",
       "      <td>what is kmc an initialism of ?</td>\n",
       "      <td>-1</td>\n",
       "    </tr>\n",
       "  </tbody>\n",
       "</table>\n",
       "<p>86635 rows × 2 columns</p>\n",
       "</div>"
      ],
      "text/plain": [
       "                                                question  label\n",
       "0      to whom did the virgin mary allegedly appear i...      1\n",
       "1      what is in front of the notre dame main buildi...      1\n",
       "2      the basilica of the sacred heart at notre dame...      1\n",
       "3                     what is the grotto at notre dame ?      1\n",
       "4      what sits on top of the main building at notre...      1\n",
       "...                                                  ...    ...\n",
       "86630  in what us state did kathmandu first establish...     -1\n",
       "86631              what was yangon previously known as ?     -1\n",
       "86632  with what belorussian city does kathmandu have...     -1\n",
       "86633  in what year did kathmandu create its initial ...     -1\n",
       "86634                     what is kmc an initialism of ?     -1\n",
       "\n",
       "[86635 rows x 2 columns]"
      ]
     },
     "execution_count": 5,
     "metadata": {},
     "output_type": "execute_result"
    }
   ],
   "source": [
    "questions['label'] = label_list\n",
    "questions"
   ]
  },
  {
   "cell_type": "markdown",
   "id": "ade1edee",
   "metadata": {},
   "source": [
    "# Labels"
   ]
  },
  {
   "cell_type": "code",
   "execution_count": 6,
   "id": "7a3e27e1",
   "metadata": {},
   "outputs": [
    {
     "data": {
      "text/plain": [
       "-1    85615\n",
       " 1      883\n",
       " 2      106\n",
       " 3       20\n",
       " 6        4\n",
       " 5        3\n",
       " 4        3\n",
       "-2        1\n",
       "Name: label, dtype: int64"
      ]
     },
     "execution_count": 6,
     "metadata": {},
     "output_type": "execute_result"
    }
   ],
   "source": [
    "questions['label'].value_counts()"
   ]
  },
  {
   "cell_type": "markdown",
   "id": "e81bdda2",
   "metadata": {},
   "source": [
    "# Words per question"
   ]
  },
  {
   "cell_type": "code",
   "execution_count": 7,
   "id": "fa44eada",
   "metadata": {},
   "outputs": [
    {
     "data": {
      "text/plain": [
       "0        14\n",
       "1        11\n",
       "2        15\n",
       "3         8\n",
       "4        12\n",
       "         ..\n",
       "86630    12\n",
       "86631     7\n",
       "86632    10\n",
       "86633    11\n",
       "86634     7\n",
       "Name: word_number, Length: 86635, dtype: int64"
      ]
     },
     "execution_count": 7,
     "metadata": {},
     "output_type": "execute_result"
    }
   ],
   "source": [
    "questions['word_number'] = questions['question'].str.split().str.len()\n",
    "questions['word_number']"
   ]
  },
  {
   "cell_type": "code",
   "execution_count": 8,
   "id": "a85481da",
   "metadata": {},
   "outputs": [
    {
     "data": {
      "text/plain": [
       "10    10653\n",
       "9     10420\n",
       "11     9845\n",
       "8      8782\n",
       "12     8455\n",
       "13     6974\n",
       "7      6122\n",
       "14     5389\n",
       "15     4162\n",
       "6      3403\n",
       "16     3146\n",
       "17     2267\n",
       "18     1584\n",
       "5      1246\n",
       "19     1169\n",
       "20      782\n",
       "21      584\n",
       "22      399\n",
       "4       369\n",
       "23      250\n",
       "24      184\n",
       "25      125\n",
       "26       94\n",
       "27       61\n",
       "28       46\n",
       "29       29\n",
       "30       28\n",
       "32       12\n",
       "33       11\n",
       "35        9\n",
       "31        8\n",
       "3         7\n",
       "34        6\n",
       "38        3\n",
       "36        3\n",
       "37        2\n",
       "39        2\n",
       "60        1\n",
       "49        1\n",
       "1         1\n",
       "2         1\n",
       "Name: word_number, dtype: int64"
      ]
     },
     "execution_count": 8,
     "metadata": {},
     "output_type": "execute_result"
    }
   ],
   "source": [
    "questions['word_number'].value_counts()"
   ]
  },
  {
   "cell_type": "code",
   "execution_count": 9,
   "id": "b8cf478e",
   "metadata": {},
   "outputs": [
    {
     "data": {
      "text/plain": [
       "<Axes: >"
      ]
     },
     "execution_count": 9,
     "metadata": {},
     "output_type": "execute_result"
    },
    {
     "data": {
      "image/png": "[encoded data removed]",
      "text/plain": [
       "<Figure size 432x288 with 1 Axes>"
      ]
     },
     "metadata": {
      "needs_background": "light"
     },
     "output_type": "display_data"
    }
   ],
   "source": [
    "questions['word_number'].hist(grid=False, bins=max(questions['word_number']))"
   ]
  },
  {
   "cell_type": "markdown",
   "id": "57da510f",
   "metadata": {},
   "source": [
    "# First word in a question\n",
    "\n",
    "(we could extract the first word and try grouping questions by the interrogative pronoun used)"
   ]
  },
  {
   "cell_type": "code",
   "execution_count": 10,
   "id": "6e27b34f",
   "metadata": {},
   "outputs": [],
   "source": [
    "# first word of a question\n",
    "questions['first_word'] = questions['question'].str.split(expand=True)[0]"
   ]
  },
  {
   "cell_type": "code",
   "execution_count": 11,
   "id": "16978b75",
   "metadata": {},
   "outputs": [
    {
     "data": {
      "text/plain": [
       "0          to\n",
       "1        what\n",
       "2         the\n",
       "3        what\n",
       "4        what\n",
       "         ... \n",
       "86630      in\n",
       "86631    what\n",
       "86632    with\n",
       "86633      in\n",
       "86634    what\n",
       "Name: first_word, Length: 86635, dtype: object"
      ]
     },
     "execution_count": 11,
     "metadata": {},
     "output_type": "execute_result"
    }
   ],
   "source": [
    "questions['first_word']"
   ]
  },
  {
   "cell_type": "markdown",
   "id": "e5843a96",
   "metadata": {},
   "source": [
    "## 40 most popular first words"
   ]
  },
  {
   "cell_type": "code",
   "execution_count": 12,
   "id": "4c8b6774",
   "metadata": {},
   "outputs": [
    {
     "data": {
      "text/plain": [
       "what         37479\n",
       "who           8133\n",
       "how           7897\n",
       "when          5424\n",
       "in            4313\n",
       "which         4140\n",
       "where         3257\n",
       "the           2291\n",
       "why           1188\n",
       "on             589\n",
       "along          577\n",
       "during         436\n",
       "at             336\n",
       "a              316\n",
       "for            292\n",
       "according      290\n",
       "to             288\n",
       "from           278\n",
       "by             255\n",
       "after          247\n",
       "whose          202\n",
       "is             187\n",
       "with           174\n",
       "if             171\n",
       "as             165\n",
       "besides        163\n",
       "are            158\n",
       "name           148\n",
       "did            146\n",
       "about          143\n",
       "do             126\n",
       "of             125\n",
       "does           124\n",
       "under          111\n",
       "was            107\n",
       "other           91\n",
       "some            82\n",
       "beyonce         76\n",
       "since           76\n",
       "an              71\n",
       "Name: first_word, dtype: int64"
      ]
     },
     "execution_count": 12,
     "metadata": {},
     "output_type": "execute_result"
    }
   ],
   "source": [
    "# most frequent types of questions\n",
    "questions['first_word'].value_counts()[:40]"
   ]
  }
 ],
 "metadata": {
  "kernelspec": {
   "display_name": "Python 3 (ipykernel)",
   "language": "python",
   "name": "python3"
  },
  "language_info": {
   "codemirror_mode": {
    "name": "ipython",
    "version": 3
   },
   "file_extension": ".py",
   "mimetype": "text/x-python",
   "name": "python",
   "nbconvert_exporter": "python",
   "pygments_lexer": "ipython3",
   "version": "3.8.10"
  }
 },
 "nbformat": 4,
 "nbformat_minor": 5
}
