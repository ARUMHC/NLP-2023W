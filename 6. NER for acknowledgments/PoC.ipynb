{
 "cells": [
  {
   "cell_type": "code",
   "execution_count": 1,
   "id": "09fe6f2d",
   "metadata": {},
   "outputs": [],
   "source": [
    "from flair.data import Corpus\n",
    "from flair.datasets import ColumnCorpus\n",
    "from flair.embeddings import TokenEmbeddings, WordEmbeddings, StackedEmbeddings\n",
    "from flair.embeddings import WordEmbeddings, FlairEmbeddings, StackedEmbeddings\n",
    "from flair.models import SequenceTagger\n",
    "from flair.trainers import ModelTrainer\n",
    "from flair.data import Corpus\n",
    "from flair.datasets import ColumnCorpus\n",
    "from flair.data import Sentence\n",
    "from flair.models import SequenceTagger\n",
    "from flair.embeddings import FlairEmbeddings\n",
    "from flair.models import SequenceTagger\n",
    "from flair.trainers import ModelTrainer\n",
    "from flair.embeddings import WordEmbeddings, FlairEmbeddings, StackedEmbeddings,TransformerWordEmbeddings\n",
    "from flair.data import Corpus\n",
    "from flair.datasets import TREC_6\n",
    "from flair.models import TARSClassifier\n",
    "from flair.trainers import ModelTrainer"
   ]
  },
  {
   "cell_type": "markdown",
   "id": "5cb5eea3",
   "metadata": {},
   "source": [
    "## LOAD DATASET"
   ]
  },
  {
   "cell_type": "code",
   "execution_count": 2,
   "id": "70c9f28b",
   "metadata": {},
   "outputs": [
    {
     "name": "stdout",
     "output_type": "stream",
     "text": [
      "2023-11-21 21:17:38,122 Reading data from C:\\Users\\Dawid\\Downloads\\lecture_data\\data\\corpus4\n",
      "2023-11-21 21:17:38,123 Train: C:\\Users\\Dawid\\Downloads\\lecture_data\\data\\corpus4\\train.txt\n",
      "2023-11-21 21:17:38,124 Dev: C:\\Users\\Dawid\\Downloads\\lecture_data\\data\\corpus4\\dev.txt\n",
      "2023-11-21 21:17:38,124 Test: C:\\Users\\Dawid\\Downloads\\lecture_data\\data\\corpus4\\test.txt\n",
      "2023-11-21 21:17:38,413 Computing label dictionary. Progress:\n"
     ]
    },
    {
     "name": "stderr",
     "output_type": "stream",
     "text": [
      "0it [00:00, ?it/s]\n",
      "1145it [00:00, 88076.85it/s]"
     ]
    },
    {
     "name": "stdout",
     "output_type": "stream",
     "text": [
      "2023-11-21 21:17:38,430 Dictionary created for label 'ner' with 6 values: FUND (seen 1313 times), GRNB (seen 1193 times), IND (seen 854 times), UNI (seen 364 times), MISC (seen 207 times), COR (seen 49 times)\n"
     ]
    },
    {
     "name": "stderr",
     "output_type": "stream",
     "text": [
      "\n"
     ]
    }
   ],
   "source": [
    "columns = {0: 'text', 1: 'ner'}\n",
    "\n",
    "\n",
    "data_folder = r'C:/Users/Dawid/Downloads/lecture_data/data/corpus4'\n",
    "\n",
    "label_name_map = {'FUND': 'Funding Agency',\n",
    "                  'IND': 'Person',\n",
    "                  'COR': 'Corporation',\n",
    "                  'GRNB': 'Grant Number',\n",
    "                  'UNI': 'University',\n",
    "                  'MISC': 'Miscellaneous'\n",
    "                  }\n",
    "\n",
    "\n",
    "corpus: Corpus = ColumnCorpus(data_folder, columns,\n",
    "                              train_file='train.txt',\n",
    "                              test_file='test.txt',\n",
    "                              dev_file='dev.txt')\n",
    "label_type = 'ner'\n",
    "label_dict = corpus.make_label_dictionary(label_type=label_type)"
   ]
  },
  {
   "cell_type": "markdown",
   "id": "aa5e654b",
   "metadata": {},
   "source": [
    "# Stacked embedding"
   ]
  },
  {
   "cell_type": "code",
   "execution_count": 3,
   "id": "9f1a4862",
   "metadata": {},
   "outputs": [],
   "source": [
    "stacked_embeddings = StackedEmbeddings([\n",
    "                                        WordEmbeddings('glove'),\n",
    "                                        FlairEmbeddings('news-forward'),\n",
    "                                        FlairEmbeddings('news-backward'),\n",
    "                                       ])"
   ]
  },
  {
   "cell_type": "code",
   "execution_count": 4,
   "id": "d7dfe6cb",
   "metadata": {},
   "outputs": [
    {
     "name": "stdout",
     "output_type": "stream",
     "text": [
      "2023-11-21 21:17:42,715 SequenceTagger predicts: Dictionary with 25 tags: O, S-FUND, B-FUND, E-FUND, I-FUND, S-GRNB, B-GRNB, E-GRNB, I-GRNB, S-IND, B-IND, E-IND, I-IND, S-UNI, B-UNI, E-UNI, I-UNI, S-MISC, B-MISC, E-MISC, I-MISC, S-COR, B-COR, E-COR, I-COR\n",
      "2023-11-21 21:17:42,783 ----------------------------------------------------------------------------------------------------\n",
      "2023-11-21 21:17:42,783 Model: \"SequenceTagger(\n",
      "  (embeddings): StackedEmbeddings(\n",
      "    (list_embedding_0): WordEmbeddings(\n",
      "      'glove'\n",
      "      (embedding): Embedding(400001, 100)\n",
      "    )\n",
      "    (list_embedding_1): FlairEmbeddings(\n",
      "      (lm): LanguageModel(\n",
      "        (drop): Dropout(p=0.05, inplace=False)\n",
      "        (encoder): Embedding(300, 100)\n",
      "        (rnn): LSTM(100, 2048)\n",
      "      )\n",
      "    )\n",
      "    (list_embedding_2): FlairEmbeddings(\n",
      "      (lm): LanguageModel(\n",
      "        (drop): Dropout(p=0.05, inplace=False)\n",
      "        (encoder): Embedding(300, 100)\n",
      "        (rnn): LSTM(100, 2048)\n",
      "      )\n",
      "    )\n",
      "  )\n",
      "  (word_dropout): WordDropout(p=0.05)\n",
      "  (locked_dropout): LockedDropout(p=0.5)\n",
      "  (embedding2nn): Linear(in_features=4196, out_features=4196, bias=True)\n",
      "  (rnn): LSTM(4196, 256, batch_first=True, bidirectional=True)\n",
      "  (linear): Linear(in_features=512, out_features=27, bias=True)\n",
      "  (loss_function): ViterbiLoss()\n",
      "  (crf): CRF()\n",
      ")\"\n",
      "2023-11-21 21:17:42,784 ----------------------------------------------------------------------------------------------------\n",
      "2023-11-21 21:17:42,784 Corpus: 1145 train + 150 dev + 164 test sentences\n",
      "2023-11-21 21:17:42,785 ----------------------------------------------------------------------------------------------------\n",
      "2023-11-21 21:17:42,785 Train:  1145 sentences\n",
      "2023-11-21 21:17:42,786         (train_with_dev=False, train_with_test=False)\n",
      "2023-11-21 21:17:42,786 ----------------------------------------------------------------------------------------------------\n",
      "2023-11-21 21:17:42,787 Training Params:\n",
      "2023-11-21 21:17:42,788  - learning_rate: \"0.1\" \n",
      "2023-11-21 21:17:42,788  - mini_batch_size: \"32\"\n",
      "2023-11-21 21:17:42,789  - max_epochs: \"10\"\n",
      "2023-11-21 21:17:42,789  - shuffle: \"True\"\n",
      "2023-11-21 21:17:42,790 ----------------------------------------------------------------------------------------------------\n",
      "2023-11-21 21:17:42,790 Plugins:\n",
      "2023-11-21 21:17:42,791  - AnnealOnPlateau | patience: '3', anneal_factor: '0.5', min_learning_rate: '0.0001'\n",
      "2023-11-21 21:17:42,791 ----------------------------------------------------------------------------------------------------\n",
      "2023-11-21 21:17:42,791 Final evaluation on model from best epoch (best-model.pt)\n",
      "2023-11-21 21:17:42,792  - metric: \"('micro avg', 'f1-score')\"\n",
      "2023-11-21 21:17:42,792 ----------------------------------------------------------------------------------------------------\n",
      "2023-11-21 21:17:42,793 Computation:\n",
      "2023-11-21 21:17:42,793  - compute on device: cpu\n",
      "2023-11-21 21:17:42,794  - embedding storage: cpu\n",
      "2023-11-21 21:17:42,794 ----------------------------------------------------------------------------------------------------\n",
      "2023-11-21 21:17:42,795 Model training base path: \"resources\\taggers\\ner\"\n",
      "2023-11-21 21:17:42,795 ----------------------------------------------------------------------------------------------------\n",
      "2023-11-21 21:17:42,796 ----------------------------------------------------------------------------------------------------\n",
      "2023-11-21 21:18:06,910 epoch 1 - iter 3/36 - loss 3.29586526 - time (sec): 24.11 - samples/sec: 158.45 - lr: 0.100000 - momentum: 0.000000\n",
      "2023-11-21 21:18:24,193 epoch 1 - iter 6/36 - loss 2.77064573 - time (sec): 41.40 - samples/sec: 167.02 - lr: 0.100000 - momentum: 0.000000\n",
      "2023-11-21 21:18:38,138 epoch 1 - iter 9/36 - loss 2.49447189 - time (sec): 55.34 - samples/sec: 175.78 - lr: 0.100000 - momentum: 0.000000\n",
      "2023-11-21 21:18:51,583 epoch 1 - iter 12/36 - loss 2.37488367 - time (sec): 68.79 - samples/sec: 183.99 - lr: 0.100000 - momentum: 0.000000\n",
      "2023-11-21 21:19:07,070 epoch 1 - iter 15/36 - loss 2.24781871 - time (sec): 84.27 - samples/sec: 186.19 - lr: 0.100000 - momentum: 0.000000\n",
      "2023-11-21 21:19:20,912 epoch 1 - iter 18/36 - loss 2.13941232 - time (sec): 98.12 - samples/sec: 189.86 - lr: 0.100000 - momentum: 0.000000\n",
      "2023-11-21 21:19:38,045 epoch 1 - iter 21/36 - loss 2.05565787 - time (sec): 115.25 - samples/sec: 186.69 - lr: 0.100000 - momentum: 0.000000\n",
      "2023-11-21 21:19:49,644 epoch 1 - iter 24/36 - loss 2.00642513 - time (sec): 126.85 - samples/sec: 190.27 - lr: 0.100000 - momentum: 0.000000\n",
      "2023-11-21 21:20:05,791 epoch 1 - iter 27/36 - loss 1.95344583 - time (sec): 143.00 - samples/sec: 190.65 - lr: 0.100000 - momentum: 0.000000\n",
      "2023-11-21 21:20:20,253 epoch 1 - iter 30/36 - loss 1.91167962 - time (sec): 157.46 - samples/sec: 190.36 - lr: 0.100000 - momentum: 0.000000\n",
      "2023-11-21 21:20:31,975 epoch 1 - iter 33/36 - loss 1.86199425 - time (sec): 169.18 - samples/sec: 192.32 - lr: 0.100000 - momentum: 0.000000\n",
      "2023-11-21 21:20:46,021 epoch 1 - iter 36/36 - loss 1.82856839 - time (sec): 183.23 - samples/sec: 191.26 - lr: 0.100000 - momentum: 0.000000\n",
      "2023-11-21 21:20:46,022 ----------------------------------------------------------------------------------------------------\n",
      "2023-11-21 21:20:46,022 EPOCH 1 done: loss 1.8286 - lr: 0.100000\n"
     ]
    },
    {
     "name": "stderr",
     "output_type": "stream",
     "text": [
      "100%|████████████████████████████████████████████████████████████████████████████████████| 3/3 [00:11<00:00,  3.89s/it]"
     ]
    },
    {
     "name": "stdout",
     "output_type": "stream",
     "text": [
      "2023-11-21 21:20:57,712 DEV : loss 1.3003181219100952 - f1-score (micro avg)  0.1885\n",
      "2023-11-21 21:20:57,722  - 0 epochs without improvement\n",
      "2023-11-21 21:20:57,723 saving best model\n"
     ]
    },
    {
     "name": "stderr",
     "output_type": "stream",
     "text": [
      "\n"
     ]
    },
    {
     "name": "stdout",
     "output_type": "stream",
     "text": [
      "2023-11-21 21:20:58,246 ----------------------------------------------------------------------------------------------------\n",
      "2023-11-21 21:21:00,012 epoch 2 - iter 3/36 - loss 1.14554643 - time (sec): 1.77 - samples/sec: 1592.84 - lr: 0.100000 - momentum: 0.000000\n",
      "2023-11-21 21:21:01,847 epoch 2 - iter 6/36 - loss 1.14709899 - time (sec): 3.60 - samples/sec: 1602.48 - lr: 0.100000 - momentum: 0.000000\n",
      "2023-11-21 21:21:03,621 epoch 2 - iter 9/36 - loss 1.14915470 - time (sec): 5.37 - samples/sec: 1607.20 - lr: 0.100000 - momentum: 0.000000\n",
      "2023-11-21 21:21:06,336 epoch 2 - iter 12/36 - loss 1.15108691 - time (sec): 8.09 - samples/sec: 1507.43 - lr: 0.100000 - momentum: 0.000000\n",
      "2023-11-21 21:21:08,196 epoch 2 - iter 15/36 - loss 1.13448815 - time (sec): 9.95 - samples/sec: 1525.29 - lr: 0.100000 - momentum: 0.000000\n",
      "2023-11-21 21:21:09,832 epoch 2 - iter 18/36 - loss 1.10985330 - time (sec): 11.59 - samples/sec: 1549.97 - lr: 0.100000 - momentum: 0.000000\n",
      "2023-11-21 21:21:11,477 epoch 2 - iter 21/36 - loss 1.08496751 - time (sec): 13.23 - samples/sec: 1564.12 - lr: 0.100000 - momentum: 0.000000\n",
      "2023-11-21 21:21:13,108 epoch 2 - iter 24/36 - loss 1.07611258 - time (sec): 14.86 - samples/sec: 1567.77 - lr: 0.100000 - momentum: 0.000000\n",
      "2023-11-21 21:21:15,089 epoch 2 - iter 27/36 - loss 1.07526756 - time (sec): 16.84 - samples/sec: 1568.27 - lr: 0.100000 - momentum: 0.000000\n",
      "2023-11-21 21:21:16,953 epoch 2 - iter 30/36 - loss 1.06633661 - time (sec): 18.71 - samples/sec: 1568.07 - lr: 0.100000 - momentum: 0.000000\n",
      "2023-11-21 21:21:18,947 epoch 2 - iter 33/36 - loss 1.03344906 - time (sec): 20.70 - samples/sec: 1560.03 - lr: 0.100000 - momentum: 0.000000\n",
      "2023-11-21 21:21:20,685 epoch 2 - iter 36/36 - loss 1.01728205 - time (sec): 22.44 - samples/sec: 1561.68 - lr: 0.100000 - momentum: 0.000000\n",
      "2023-11-21 21:21:20,686 ----------------------------------------------------------------------------------------------------\n",
      "2023-11-21 21:21:20,686 EPOCH 2 done: loss 1.0173 - lr: 0.100000\n"
     ]
    },
    {
     "name": "stderr",
     "output_type": "stream",
     "text": [
      "100%|████████████████████████████████████████████████████████████████████████████████████| 3/3 [00:01<00:00,  1.75it/s]"
     ]
    },
    {
     "name": "stdout",
     "output_type": "stream",
     "text": [
      "2023-11-21 21:21:22,404 DEV : loss 0.8780059218406677 - f1-score (micro avg)  0.4626\n",
      "2023-11-21 21:21:22,414  - 0 epochs without improvement\n"
     ]
    },
    {
     "name": "stderr",
     "output_type": "stream",
     "text": [
      "\n"
     ]
    },
    {
     "name": "stdout",
     "output_type": "stream",
     "text": [
      "2023-11-21 21:21:22,414 saving best model\n",
      "2023-11-21 21:21:22,962 ----------------------------------------------------------------------------------------------------\n",
      "2023-11-21 21:21:24,837 epoch 3 - iter 3/36 - loss 0.77471186 - time (sec): 1.88 - samples/sec: 1521.60 - lr: 0.100000 - momentum: 0.000000\n",
      "2023-11-21 21:21:26,928 epoch 3 - iter 6/36 - loss 0.75848255 - time (sec): 3.97 - samples/sec: 1445.62 - lr: 0.100000 - momentum: 0.000000\n",
      "2023-11-21 21:21:28,855 epoch 3 - iter 9/36 - loss 0.74769122 - time (sec): 5.89 - samples/sec: 1466.38 - lr: 0.100000 - momentum: 0.000000\n",
      "2023-11-21 21:21:31,584 epoch 3 - iter 12/36 - loss 0.77075232 - time (sec): 8.62 - samples/sec: 1396.00 - lr: 0.100000 - momentum: 0.000000\n",
      "2023-11-21 21:21:33,605 epoch 3 - iter 15/36 - loss 0.76784060 - time (sec): 10.64 - samples/sec: 1416.13 - lr: 0.100000 - momentum: 0.000000\n",
      "2023-11-21 21:21:35,434 epoch 3 - iter 18/36 - loss 0.74778469 - time (sec): 12.47 - samples/sec: 1430.63 - lr: 0.100000 - momentum: 0.000000\n",
      "2023-11-21 21:21:37,457 epoch 3 - iter 21/36 - loss 0.73790754 - time (sec): 14.49 - samples/sec: 1438.80 - lr: 0.100000 - momentum: 0.000000\n",
      "2023-11-21 21:21:39,548 epoch 3 - iter 24/36 - loss 0.73355291 - time (sec): 16.59 - samples/sec: 1452.83 - lr: 0.100000 - momentum: 0.000000\n",
      "2023-11-21 21:21:41,475 epoch 3 - iter 27/36 - loss 0.72269177 - time (sec): 18.51 - samples/sec: 1456.00 - lr: 0.100000 - momentum: 0.000000\n",
      "2023-11-21 21:21:43,222 epoch 3 - iter 30/36 - loss 0.71802852 - time (sec): 20.26 - samples/sec: 1469.48 - lr: 0.100000 - momentum: 0.000000\n",
      "2023-11-21 21:21:44,782 epoch 3 - iter 33/36 - loss 0.70990313 - time (sec): 21.82 - samples/sec: 1488.20 - lr: 0.100000 - momentum: 0.000000\n",
      "2023-11-21 21:21:46,305 epoch 3 - iter 36/36 - loss 0.70424226 - time (sec): 23.34 - samples/sec: 1501.25 - lr: 0.100000 - momentum: 0.000000\n",
      "2023-11-21 21:21:46,305 ----------------------------------------------------------------------------------------------------\n",
      "2023-11-21 21:21:46,306 EPOCH 3 done: loss 0.7042 - lr: 0.100000\n"
     ]
    },
    {
     "name": "stderr",
     "output_type": "stream",
     "text": [
      "100%|████████████████████████████████████████████████████████████████████████████████████| 3/3 [00:01<00:00,  1.67it/s]"
     ]
    },
    {
     "name": "stdout",
     "output_type": "stream",
     "text": [
      "2023-11-21 21:21:48,110 DEV : loss 0.709166944026947 - f1-score (micro avg)  0.5315\n",
      "2023-11-21 21:21:48,120  - 0 epochs without improvement\n",
      "2023-11-21 21:21:48,121 saving best model\n"
     ]
    },
    {
     "name": "stderr",
     "output_type": "stream",
     "text": [
      "\n"
     ]
    },
    {
     "name": "stdout",
     "output_type": "stream",
     "text": [
      "2023-11-21 21:21:48,642 ----------------------------------------------------------------------------------------------------\n",
      "2023-11-21 21:21:50,340 epoch 4 - iter 3/36 - loss 0.56659735 - time (sec): 1.70 - samples/sec: 1656.51 - lr: 0.100000 - momentum: 0.000000\n",
      "2023-11-21 21:21:52,181 epoch 4 - iter 6/36 - loss 0.54836629 - time (sec): 3.54 - samples/sec: 1615.34 - lr: 0.100000 - momentum: 0.000000\n",
      "2023-11-21 21:21:53,764 epoch 4 - iter 9/36 - loss 0.55153498 - time (sec): 5.12 - samples/sec: 1660.61 - lr: 0.100000 - momentum: 0.000000\n",
      "2023-11-21 21:21:55,340 epoch 4 - iter 12/36 - loss 0.55472806 - time (sec): 6.70 - samples/sec: 1671.54 - lr: 0.100000 - momentum: 0.000000\n",
      "2023-11-21 21:21:57,336 epoch 4 - iter 15/36 - loss 0.54558949 - time (sec): 8.69 - samples/sec: 1641.71 - lr: 0.100000 - momentum: 0.000000\n",
      "2023-11-21 21:21:59,125 epoch 4 - iter 18/36 - loss 0.55450641 - time (sec): 10.48 - samples/sec: 1664.36 - lr: 0.100000 - momentum: 0.000000\n",
      "2023-11-21 21:22:00,837 epoch 4 - iter 21/36 - loss 0.55921138 - time (sec): 12.19 - samples/sec: 1660.90 - lr: 0.100000 - momentum: 0.000000\n",
      "2023-11-21 21:22:03,702 epoch 4 - iter 24/36 - loss 0.56614795 - time (sec): 15.06 - samples/sec: 1575.81 - lr: 0.100000 - momentum: 0.000000\n",
      "2023-11-21 21:22:05,518 epoch 4 - iter 27/36 - loss 0.56424126 - time (sec): 16.87 - samples/sec: 1578.10 - lr: 0.100000 - momentum: 0.000000\n",
      "2023-11-21 21:22:07,044 epoch 4 - iter 30/36 - loss 0.56045045 - time (sec): 18.40 - samples/sec: 1585.67 - lr: 0.100000 - momentum: 0.000000\n",
      "2023-11-21 21:22:09,132 epoch 4 - iter 33/36 - loss 0.56091453 - time (sec): 20.49 - samples/sec: 1572.90 - lr: 0.100000 - momentum: 0.000000\n",
      "2023-11-21 21:22:10,816 epoch 4 - iter 36/36 - loss 0.55748813 - time (sec): 22.17 - samples/sec: 1580.49 - lr: 0.100000 - momentum: 0.000000\n",
      "2023-11-21 21:22:10,817 ----------------------------------------------------------------------------------------------------\n",
      "2023-11-21 21:22:10,817 EPOCH 4 done: loss 0.5575 - lr: 0.100000\n"
     ]
    },
    {
     "name": "stderr",
     "output_type": "stream",
     "text": [
      "100%|████████████████████████████████████████████████████████████████████████████████████| 3/3 [00:01<00:00,  1.82it/s]"
     ]
    },
    {
     "name": "stdout",
     "output_type": "stream",
     "text": [
      "2023-11-21 21:22:12,476 DEV : loss 0.5069897770881653 - f1-score (micro avg)  0.577\n"
     ]
    },
    {
     "name": "stderr",
     "output_type": "stream",
     "text": [
      "\n"
     ]
    },
    {
     "name": "stdout",
     "output_type": "stream",
     "text": [
      "2023-11-21 21:22:12,487  - 0 epochs without improvement\n",
      "2023-11-21 21:22:12,487 saving best model\n",
      "2023-11-21 21:22:13,022 ----------------------------------------------------------------------------------------------------\n",
      "2023-11-21 21:22:14,715 epoch 5 - iter 3/36 - loss 0.47184173 - time (sec): 1.69 - samples/sec: 1631.22 - lr: 0.100000 - momentum: 0.000000\n",
      "2023-11-21 21:22:16,593 epoch 5 - iter 6/36 - loss 0.48043415 - time (sec): 3.57 - samples/sec: 1642.38 - lr: 0.100000 - momentum: 0.000000\n",
      "2023-11-21 21:22:18,707 epoch 5 - iter 9/36 - loss 0.48912539 - time (sec): 5.68 - samples/sec: 1560.05 - lr: 0.100000 - momentum: 0.000000\n",
      "2023-11-21 21:22:21,398 epoch 5 - iter 12/36 - loss 0.51072957 - time (sec): 8.38 - samples/sec: 1459.35 - lr: 0.100000 - momentum: 0.000000\n",
      "2023-11-21 21:22:23,150 epoch 5 - iter 15/36 - loss 0.50046763 - time (sec): 10.13 - samples/sec: 1488.63 - lr: 0.100000 - momentum: 0.000000\n",
      "2023-11-21 21:22:24,726 epoch 5 - iter 18/36 - loss 0.49501701 - time (sec): 11.70 - samples/sec: 1510.12 - lr: 0.100000 - momentum: 0.000000\n",
      "2023-11-21 21:22:26,726 epoch 5 - iter 21/36 - loss 0.48582831 - time (sec): 13.70 - samples/sec: 1495.96 - lr: 0.100000 - momentum: 0.000000\n",
      "2023-11-21 21:22:28,578 epoch 5 - iter 24/36 - loss 0.48469780 - time (sec): 15.56 - samples/sec: 1511.36 - lr: 0.100000 - momentum: 0.000000\n",
      "2023-11-21 21:22:30,694 epoch 5 - iter 27/36 - loss 0.47699768 - time (sec): 17.67 - samples/sec: 1507.67 - lr: 0.100000 - momentum: 0.000000\n",
      "2023-11-21 21:22:32,536 epoch 5 - iter 30/36 - loss 0.47479150 - time (sec): 19.51 - samples/sec: 1512.06 - lr: 0.100000 - momentum: 0.000000\n",
      "2023-11-21 21:22:34,247 epoch 5 - iter 33/36 - loss 0.47413751 - time (sec): 21.22 - samples/sec: 1521.54 - lr: 0.100000 - momentum: 0.000000\n",
      "2023-11-21 21:22:36,124 epoch 5 - iter 36/36 - loss 0.47063462 - time (sec): 23.10 - samples/sec: 1516.93 - lr: 0.100000 - momentum: 0.000000\n",
      "2023-11-21 21:22:36,125 ----------------------------------------------------------------------------------------------------\n",
      "2023-11-21 21:22:36,125 EPOCH 5 done: loss 0.4706 - lr: 0.100000\n"
     ]
    },
    {
     "name": "stderr",
     "output_type": "stream",
     "text": [
      "100%|████████████████████████████████████████████████████████████████████████████████████| 3/3 [00:01<00:00,  1.77it/s]"
     ]
    },
    {
     "name": "stdout",
     "output_type": "stream",
     "text": [
      "2023-11-21 21:22:37,824 DEV : loss 0.47746118903160095 - f1-score (micro avg)  0.6019\n",
      "2023-11-21 21:22:37,834  - 0 epochs without improvement\n",
      "2023-11-21 21:22:37,835 saving best model\n"
     ]
    },
    {
     "name": "stderr",
     "output_type": "stream",
     "text": [
      "\n"
     ]
    },
    {
     "name": "stdout",
     "output_type": "stream",
     "text": [
      "2023-11-21 21:22:38,386 ----------------------------------------------------------------------------------------------------\n",
      "2023-11-21 21:22:40,213 epoch 6 - iter 3/36 - loss 0.38060508 - time (sec): 1.83 - samples/sec: 1546.43 - lr: 0.100000 - momentum: 0.000000\n",
      "2023-11-21 21:22:42,369 epoch 6 - iter 6/36 - loss 0.38324590 - time (sec): 3.98 - samples/sec: 1474.21 - lr: 0.100000 - momentum: 0.000000\n",
      "2023-11-21 21:22:44,120 epoch 6 - iter 9/36 - loss 0.40017807 - time (sec): 5.73 - samples/sec: 1507.73 - lr: 0.100000 - momentum: 0.000000\n",
      "2023-11-21 21:22:45,920 epoch 6 - iter 12/36 - loss 0.39684996 - time (sec): 7.53 - samples/sec: 1538.95 - lr: 0.100000 - momentum: 0.000000\n",
      "2023-11-21 21:22:47,873 epoch 6 - iter 15/36 - loss 0.41752108 - time (sec): 9.49 - samples/sec: 1541.91 - lr: 0.100000 - momentum: 0.000000\n",
      "2023-11-21 21:22:49,811 epoch 6 - iter 18/36 - loss 0.41261751 - time (sec): 11.43 - samples/sec: 1542.25 - lr: 0.100000 - momentum: 0.000000\n",
      "2023-11-21 21:22:51,578 epoch 6 - iter 21/36 - loss 0.40769237 - time (sec): 13.19 - samples/sec: 1554.73 - lr: 0.100000 - momentum: 0.000000\n",
      "2023-11-21 21:22:54,243 epoch 6 - iter 24/36 - loss 0.40755989 - time (sec): 15.86 - samples/sec: 1505.47 - lr: 0.100000 - momentum: 0.000000\n",
      "2023-11-21 21:22:56,252 epoch 6 - iter 27/36 - loss 0.41061121 - time (sec): 17.86 - samples/sec: 1499.61 - lr: 0.100000 - momentum: 0.000000\n",
      "2023-11-21 21:22:58,303 epoch 6 - iter 30/36 - loss 0.40658665 - time (sec): 19.92 - samples/sec: 1490.66 - lr: 0.100000 - momentum: 0.000000\n",
      "2023-11-21 21:23:00,115 epoch 6 - iter 33/36 - loss 0.40194180 - time (sec): 21.73 - samples/sec: 1496.96 - lr: 0.100000 - momentum: 0.000000\n",
      "2023-11-21 21:23:01,721 epoch 6 - iter 36/36 - loss 0.39970769 - time (sec): 23.33 - samples/sec: 1501.76 - lr: 0.100000 - momentum: 0.000000\n",
      "2023-11-21 21:23:01,722 ----------------------------------------------------------------------------------------------------\n",
      "2023-11-21 21:23:01,722 EPOCH 6 done: loss 0.3997 - lr: 0.100000\n"
     ]
    },
    {
     "name": "stderr",
     "output_type": "stream",
     "text": [
      "100%|████████████████████████████████████████████████████████████████████████████████████| 3/3 [00:01<00:00,  1.80it/s]"
     ]
    },
    {
     "name": "stdout",
     "output_type": "stream",
     "text": [
      "2023-11-21 21:23:03,402 DEV : loss 0.4163089692592621 - f1-score (micro avg)  0.6298\n"
     ]
    },
    {
     "name": "stderr",
     "output_type": "stream",
     "text": [
      "\n"
     ]
    },
    {
     "name": "stdout",
     "output_type": "stream",
     "text": [
      "2023-11-21 21:23:03,414  - 0 epochs without improvement\n",
      "2023-11-21 21:23:03,415 saving best model\n",
      "2023-11-21 21:23:03,976 ----------------------------------------------------------------------------------------------------\n",
      "2023-11-21 21:23:05,794 epoch 7 - iter 3/36 - loss 0.38301974 - time (sec): 1.82 - samples/sec: 1602.00 - lr: 0.100000 - momentum: 0.000000\n",
      "2023-11-21 21:23:07,335 epoch 7 - iter 6/36 - loss 0.37045332 - time (sec): 3.36 - samples/sec: 1670.84 - lr: 0.100000 - momentum: 0.000000\n",
      "2023-11-21 21:23:09,602 epoch 7 - iter 9/36 - loss 0.36242138 - time (sec): 5.62 - samples/sec: 1592.90 - lr: 0.100000 - momentum: 0.000000\n",
      "2023-11-21 21:23:11,420 epoch 7 - iter 12/36 - loss 0.35516837 - time (sec): 7.44 - samples/sec: 1576.39 - lr: 0.100000 - momentum: 0.000000\n",
      "2023-11-21 21:23:13,537 epoch 7 - iter 15/36 - loss 0.34835061 - time (sec): 9.56 - samples/sec: 1544.44 - lr: 0.100000 - momentum: 0.000000\n",
      "2023-11-21 21:23:15,551 epoch 7 - iter 18/36 - loss 0.34167474 - time (sec): 11.57 - samples/sec: 1534.33 - lr: 0.100000 - momentum: 0.000000\n",
      "2023-11-21 21:23:17,069 epoch 7 - iter 21/36 - loss 0.34630014 - time (sec): 13.09 - samples/sec: 1556.63 - lr: 0.100000 - momentum: 0.000000\n",
      "2023-11-21 21:23:19,681 epoch 7 - iter 24/36 - loss 0.35024924 - time (sec): 15.70 - samples/sec: 1523.56 - lr: 0.100000 - momentum: 0.000000\n",
      "2023-11-21 21:23:21,459 epoch 7 - iter 27/36 - loss 0.34772140 - time (sec): 17.48 - samples/sec: 1530.79 - lr: 0.100000 - momentum: 0.000000\n",
      "2023-11-21 21:23:23,422 epoch 7 - iter 30/36 - loss 0.34309028 - time (sec): 19.45 - samples/sec: 1538.95 - lr: 0.100000 - momentum: 0.000000\n",
      "2023-11-21 21:23:25,104 epoch 7 - iter 33/36 - loss 0.34418076 - time (sec): 21.13 - samples/sec: 1540.91 - lr: 0.100000 - momentum: 0.000000\n",
      "2023-11-21 21:23:26,802 epoch 7 - iter 36/36 - loss 0.34812922 - time (sec): 22.83 - samples/sec: 1535.26 - lr: 0.100000 - momentum: 0.000000\n",
      "2023-11-21 21:23:26,802 ----------------------------------------------------------------------------------------------------\n",
      "2023-11-21 21:23:26,803 EPOCH 7 done: loss 0.3481 - lr: 0.100000\n"
     ]
    },
    {
     "name": "stderr",
     "output_type": "stream",
     "text": [
      "100%|████████████████████████████████████████████████████████████████████████████████████| 3/3 [00:01<00:00,  1.80it/s]"
     ]
    },
    {
     "name": "stdout",
     "output_type": "stream",
     "text": [
      "2023-11-21 21:23:28,474 DEV : loss 0.3648170232772827 - f1-score (micro avg)  0.6565\n"
     ]
    },
    {
     "name": "stderr",
     "output_type": "stream",
     "text": [
      "\n"
     ]
    },
    {
     "name": "stdout",
     "output_type": "stream",
     "text": [
      "2023-11-21 21:23:28,485  - 0 epochs without improvement\n",
      "2023-11-21 21:23:28,486 saving best model\n",
      "2023-11-21 21:23:29,037 ----------------------------------------------------------------------------------------------------\n",
      "2023-11-21 21:23:31,236 epoch 8 - iter 3/36 - loss 0.33189427 - time (sec): 2.20 - samples/sec: 1377.75 - lr: 0.100000 - momentum: 0.000000\n",
      "2023-11-21 21:23:33,227 epoch 8 - iter 6/36 - loss 0.37952938 - time (sec): 4.19 - samples/sec: 1472.80 - lr: 0.100000 - momentum: 0.000000\n",
      "2023-11-21 21:23:35,133 epoch 8 - iter 9/36 - loss 0.34193501 - time (sec): 6.10 - samples/sec: 1470.89 - lr: 0.100000 - momentum: 0.000000\n",
      "2023-11-21 21:23:37,482 epoch 8 - iter 12/36 - loss 0.33391853 - time (sec): 8.44 - samples/sec: 1446.83 - lr: 0.100000 - momentum: 0.000000\n",
      "2023-11-21 21:23:39,364 epoch 8 - iter 15/36 - loss 0.33234813 - time (sec): 10.33 - samples/sec: 1476.79 - lr: 0.100000 - momentum: 0.000000\n",
      "2023-11-21 21:23:41,089 epoch 8 - iter 18/36 - loss 0.32790330 - time (sec): 12.05 - samples/sec: 1496.60 - lr: 0.100000 - momentum: 0.000000\n",
      "2023-11-21 21:23:42,715 epoch 8 - iter 21/36 - loss 0.32895202 - time (sec): 13.68 - samples/sec: 1512.06 - lr: 0.100000 - momentum: 0.000000\n",
      "2023-11-21 21:23:44,504 epoch 8 - iter 24/36 - loss 0.32110799 - time (sec): 15.47 - samples/sec: 1531.66 - lr: 0.100000 - momentum: 0.000000\n",
      "2023-11-21 21:23:47,066 epoch 8 - iter 27/36 - loss 0.32142900 - time (sec): 18.03 - samples/sec: 1493.20 - lr: 0.100000 - momentum: 0.000000\n",
      "2023-11-21 21:23:48,964 epoch 8 - iter 30/36 - loss 0.32470361 - time (sec): 19.93 - samples/sec: 1497.03 - lr: 0.100000 - momentum: 0.000000\n",
      "2023-11-21 21:23:50,758 epoch 8 - iter 33/36 - loss 0.32094733 - time (sec): 21.72 - samples/sec: 1497.79 - lr: 0.100000 - momentum: 0.000000\n",
      "2023-11-21 21:23:52,358 epoch 8 - iter 36/36 - loss 0.32029033 - time (sec): 23.32 - samples/sec: 1502.66 - lr: 0.100000 - momentum: 0.000000\n",
      "2023-11-21 21:23:52,358 ----------------------------------------------------------------------------------------------------\n",
      "2023-11-21 21:23:52,359 EPOCH 8 done: loss 0.3203 - lr: 0.100000\n"
     ]
    },
    {
     "name": "stderr",
     "output_type": "stream",
     "text": [
      "100%|████████████████████████████████████████████████████████████████████████████████████| 3/3 [00:01<00:00,  1.80it/s]"
     ]
    },
    {
     "name": "stdout",
     "output_type": "stream",
     "text": [
      "2023-11-21 21:23:54,039 DEV : loss 0.2986045479774475 - f1-score (micro avg)  0.7308\n"
     ]
    },
    {
     "name": "stderr",
     "output_type": "stream",
     "text": [
      "\n"
     ]
    },
    {
     "name": "stdout",
     "output_type": "stream",
     "text": [
      "2023-11-21 21:23:54,050  - 0 epochs without improvement\n",
      "2023-11-21 21:23:54,051 saving best model\n",
      "2023-11-21 21:23:54,582 ----------------------------------------------------------------------------------------------------\n",
      "2023-11-21 21:23:56,712 epoch 9 - iter 3/36 - loss 0.31751268 - time (sec): 2.13 - samples/sec: 1463.49 - lr: 0.100000 - momentum: 0.000000\n",
      "2023-11-21 21:23:58,336 epoch 9 - iter 6/36 - loss 0.32090377 - time (sec): 3.75 - samples/sec: 1523.92 - lr: 0.100000 - momentum: 0.000000\n",
      "2023-11-21 21:24:00,114 epoch 9 - iter 9/36 - loss 0.30988279 - time (sec): 5.53 - samples/sec: 1548.59 - lr: 0.100000 - momentum: 0.000000\n",
      "2023-11-21 21:24:02,239 epoch 9 - iter 12/36 - loss 0.29904654 - time (sec): 7.66 - samples/sec: 1527.99 - lr: 0.100000 - momentum: 0.000000\n",
      "2023-11-21 21:24:05,220 epoch 9 - iter 15/36 - loss 0.31715271 - time (sec): 10.64 - samples/sec: 1423.19 - lr: 0.100000 - momentum: 0.000000\n",
      "2023-11-21 21:24:06,926 epoch 9 - iter 18/36 - loss 0.30707223 - time (sec): 12.34 - samples/sec: 1444.29 - lr: 0.100000 - momentum: 0.000000\n",
      "2023-11-21 21:24:08,737 epoch 9 - iter 21/36 - loss 0.30674069 - time (sec): 14.15 - samples/sec: 1463.40 - lr: 0.100000 - momentum: 0.000000\n",
      "2023-11-21 21:24:10,517 epoch 9 - iter 24/36 - loss 0.30075479 - time (sec): 15.93 - samples/sec: 1475.64 - lr: 0.100000 - momentum: 0.000000\n",
      "2023-11-21 21:24:12,303 epoch 9 - iter 27/36 - loss 0.29839472 - time (sec): 17.72 - samples/sec: 1492.90 - lr: 0.100000 - momentum: 0.000000\n",
      "2023-11-21 21:24:14,098 epoch 9 - iter 30/36 - loss 0.29534349 - time (sec): 19.51 - samples/sec: 1502.44 - lr: 0.100000 - momentum: 0.000000\n",
      "2023-11-21 21:24:16,061 epoch 9 - iter 33/36 - loss 0.29377782 - time (sec): 21.48 - samples/sec: 1509.81 - lr: 0.100000 - momentum: 0.000000\n",
      "2023-11-21 21:24:17,522 epoch 9 - iter 36/36 - loss 0.29311590 - time (sec): 22.94 - samples/sec: 1527.67 - lr: 0.100000 - momentum: 0.000000\n",
      "2023-11-21 21:24:17,523 ----------------------------------------------------------------------------------------------------\n",
      "2023-11-21 21:24:17,523 EPOCH 9 done: loss 0.2931 - lr: 0.100000\n"
     ]
    },
    {
     "name": "stderr",
     "output_type": "stream",
     "text": [
      "100%|████████████████████████████████████████████████████████████████████████████████████| 3/3 [00:01<00:00,  1.79it/s]"
     ]
    },
    {
     "name": "stdout",
     "output_type": "stream",
     "text": [
      "2023-11-21 21:24:19,210 DEV : loss 0.294161319732666 - f1-score (micro avg)  0.7172\n"
     ]
    },
    {
     "name": "stderr",
     "output_type": "stream",
     "text": [
      "\n"
     ]
    },
    {
     "name": "stdout",
     "output_type": "stream",
     "text": [
      "2023-11-21 21:24:19,222  - 1 epochs without improvement\n",
      "2023-11-21 21:24:19,223 ----------------------------------------------------------------------------------------------------\n",
      "2023-11-21 21:24:21,764 epoch 10 - iter 3/36 - loss 0.29916413 - time (sec): 2.54 - samples/sec: 1263.21 - lr: 0.100000 - momentum: 0.000000\n",
      "2023-11-21 21:24:23,342 epoch 10 - iter 6/36 - loss 0.27391795 - time (sec): 4.12 - samples/sec: 1396.73 - lr: 0.100000 - momentum: 0.000000\n",
      "2023-11-21 21:24:25,189 epoch 10 - iter 9/36 - loss 0.26098241 - time (sec): 5.97 - samples/sec: 1463.72 - lr: 0.100000 - momentum: 0.000000\n",
      "2023-11-21 21:24:27,199 epoch 10 - iter 12/36 - loss 0.26916329 - time (sec): 7.98 - samples/sec: 1495.68 - lr: 0.100000 - momentum: 0.000000\n",
      "2023-11-21 21:24:29,080 epoch 10 - iter 15/36 - loss 0.26713605 - time (sec): 9.86 - samples/sec: 1519.05 - lr: 0.100000 - momentum: 0.000000\n",
      "2023-11-21 21:24:30,906 epoch 10 - iter 18/36 - loss 0.26793716 - time (sec): 11.68 - samples/sec: 1532.16 - lr: 0.100000 - momentum: 0.000000\n",
      "2023-11-21 21:24:32,631 epoch 10 - iter 21/36 - loss 0.26725399 - time (sec): 13.41 - samples/sec: 1547.35 - lr: 0.100000 - momentum: 0.000000\n",
      "2023-11-21 21:24:34,633 epoch 10 - iter 24/36 - loss 0.27318811 - time (sec): 15.41 - samples/sec: 1532.96 - lr: 0.100000 - momentum: 0.000000\n",
      "2023-11-21 21:24:36,239 epoch 10 - iter 27/36 - loss 0.26998643 - time (sec): 17.02 - samples/sec: 1544.66 - lr: 0.100000 - momentum: 0.000000\n",
      "2023-11-21 21:24:38,410 epoch 10 - iter 30/36 - loss 0.27118808 - time (sec): 19.19 - samples/sec: 1531.51 - lr: 0.100000 - momentum: 0.000000\n",
      "2023-11-21 21:24:40,296 epoch 10 - iter 33/36 - loss 0.26958783 - time (sec): 21.07 - samples/sec: 1532.90 - lr: 0.100000 - momentum: 0.000000\n",
      "2023-11-21 21:24:42,140 epoch 10 - iter 36/36 - loss 0.26735174 - time (sec): 22.92 - samples/sec: 1529.14 - lr: 0.100000 - momentum: 0.000000\n",
      "2023-11-21 21:24:42,140 ----------------------------------------------------------------------------------------------------\n",
      "2023-11-21 21:24:42,140 EPOCH 10 done: loss 0.2674 - lr: 0.100000\n"
     ]
    },
    {
     "name": "stderr",
     "output_type": "stream",
     "text": [
      "100%|████████████████████████████████████████████████████████████████████████████████████| 3/3 [00:01<00:00,  1.82it/s]"
     ]
    },
    {
     "name": "stdout",
     "output_type": "stream",
     "text": [
      "2023-11-21 21:24:43,796 DEV : loss 0.2644353210926056 - f1-score (micro avg)  0.7294\n",
      "2023-11-21 21:24:43,806  - 2 epochs without improvement\n"
     ]
    },
    {
     "name": "stderr",
     "output_type": "stream",
     "text": [
      "\n"
     ]
    },
    {
     "name": "stdout",
     "output_type": "stream",
     "text": [
      "2023-11-21 21:24:44,347 ----------------------------------------------------------------------------------------------------\n",
      "2023-11-21 21:24:44,347 Loading model from best epoch ...\n",
      "2023-11-21 21:24:44,931 SequenceTagger predicts: Dictionary with 27 tags: O, S-FUND, B-FUND, E-FUND, I-FUND, S-GRNB, B-GRNB, E-GRNB, I-GRNB, S-IND, B-IND, E-IND, I-IND, S-UNI, B-UNI, E-UNI, I-UNI, S-MISC, B-MISC, E-MISC, I-MISC, S-COR, B-COR, E-COR, I-COR, <START>, <STOP>\n"
     ]
    },
    {
     "name": "stderr",
     "output_type": "stream",
     "text": [
      "100%|████████████████████████████████████████████████████████████████████████████████████| 3/3 [00:20<00:00,  6.81s/it]"
     ]
    },
    {
     "name": "stdout",
     "output_type": "stream",
     "text": [
      "2023-11-21 21:25:05,481 \n",
      "Results:\n",
      "- F-score (micro) 0.7312\n",
      "- F-score (macro) 0.5079\n",
      "- Accuracy 0.6031\n",
      "\n",
      "By class:\n",
      "              precision    recall  f1-score   support\n",
      "\n",
      "         IND     0.9183    0.9525    0.9351       295\n",
      "        GRNB     0.7500    0.8812    0.8103       160\n",
      "        FUND     0.5635    0.6497    0.6036       157\n",
      "         UNI     0.5049    0.5253    0.5149        99\n",
      "        MISC     0.5625    0.1098    0.1837        82\n",
      "         COR     0.0000    0.0000    0.0000        12\n",
      "\n",
      "   micro avg     0.7358    0.7267    0.7312       805\n",
      "   macro avg     0.5499    0.5197    0.5079       805\n",
      "weighted avg     0.7149    0.7267    0.7035       805\n",
      "\n",
      "2023-11-21 21:25:05,481 ----------------------------------------------------------------------------------------------------\n"
     ]
    },
    {
     "name": "stderr",
     "output_type": "stream",
     "text": [
      "\n"
     ]
    },
    {
     "data": {
      "text/plain": [
       "{'test_score': 0.73125}"
      ]
     },
     "execution_count": 4,
     "metadata": {},
     "output_type": "execute_result"
    }
   ],
   "source": [
    "model = SequenceTagger(hidden_size=256,\n",
    "                        embeddings=stacked_embeddings,\n",
    "                        tag_dictionary=label_dict,\n",
    "                        tag_type=label_type)\n",
    "\n",
    "trainer = ModelTrainer(model, corpus)\n",
    "\n",
    "trainer.train('resources/taggers/ner',\n",
    "              learning_rate=0.1,\n",
    "              mini_batch_size=32,\n",
    "              mini_batch_chunk_size=8,\n",
    "              max_epochs=10)"
   ]
  },
  {
   "cell_type": "markdown",
   "id": "d84038cb",
   "metadata": {},
   "source": [
    "# XLNet"
   ]
  },
  {
   "cell_type": "code",
   "execution_count": 3,
   "id": "5c7dd242",
   "metadata": {},
   "outputs": [],
   "source": [
    "embedding = TransformerWordEmbeddings('xlnet-base-cased')\n",
    "stacked_embeddings = StackedEmbeddings([\n",
    "                                        embedding,\n",
    "                                       ])"
   ]
  },
  {
   "cell_type": "code",
   "execution_count": 4,
   "id": "605b68fb",
   "metadata": {},
   "outputs": [
    {
     "name": "stdout",
     "output_type": "stream",
     "text": [
      "2023-11-21 20:08:06,209 SequenceTagger predicts: Dictionary with 25 tags: O, S-IND, B-IND, E-IND, I-IND, S-FUND, B-FUND, E-FUND, I-FUND, S-GRNB, B-GRNB, E-GRNB, I-GRNB, S-UNI, B-UNI, E-UNI, I-UNI, S-MISC, B-MISC, E-MISC, I-MISC, S-COR, B-COR, E-COR, I-COR\n",
      "2023-11-21 20:08:06,221 ----------------------------------------------------------------------------------------------------\n",
      "2023-11-21 20:08:06,222 Model: \"SequenceTagger(\n",
      "  (embeddings): StackedEmbeddings(\n",
      "    (list_embedding_0): TransformerWordEmbeddings(\n",
      "      (model): XLNetModel(\n",
      "        (word_embedding): Embedding(32001, 768)\n",
      "        (layer): ModuleList(\n",
      "          (0-11): 12 x XLNetLayer(\n",
      "            (rel_attn): XLNetRelativeAttention(\n",
      "              (layer_norm): LayerNorm((768,), eps=1e-12, elementwise_affine=True)\n",
      "              (dropout): Dropout(p=0.1, inplace=False)\n",
      "            )\n",
      "            (ff): XLNetFeedForward(\n",
      "              (layer_norm): LayerNorm((768,), eps=1e-12, elementwise_affine=True)\n",
      "              (layer_1): Linear(in_features=768, out_features=3072, bias=True)\n",
      "              (layer_2): Linear(in_features=3072, out_features=768, bias=True)\n",
      "              (dropout): Dropout(p=0.1, inplace=False)\n",
      "              (activation_function): GELUActivation()\n",
      "            )\n",
      "            (dropout): Dropout(p=0.1, inplace=False)\n",
      "          )\n",
      "        )\n",
      "        (dropout): Dropout(p=0.1, inplace=False)\n",
      "      )\n",
      "    )\n",
      "  )\n",
      "  (word_dropout): WordDropout(p=0.05)\n",
      "  (locked_dropout): LockedDropout(p=0.5)\n",
      "  (embedding2nn): Linear(in_features=768, out_features=768, bias=True)\n",
      "  (rnn): LSTM(768, 256, batch_first=True, bidirectional=True)\n",
      "  (linear): Linear(in_features=512, out_features=27, bias=True)\n",
      "  (loss_function): ViterbiLoss()\n",
      "  (crf): CRF()\n",
      ")\"\n",
      "2023-11-21 20:08:06,222 ----------------------------------------------------------------------------------------------------\n",
      "2023-11-21 20:08:06,223 Corpus: 338 train + 150 dev + 164 test sentences\n",
      "2023-11-21 20:08:06,223 ----------------------------------------------------------------------------------------------------\n",
      "2023-11-21 20:08:06,224 Train:  338 sentences\n",
      "2023-11-21 20:08:06,224         (train_with_dev=False, train_with_test=False)\n",
      "2023-11-21 20:08:06,224 ----------------------------------------------------------------------------------------------------\n",
      "2023-11-21 20:08:06,225 Training Params:\n",
      "2023-11-21 20:08:06,225  - learning_rate: \"0.1\" \n",
      "2023-11-21 20:08:06,225  - mini_batch_size: \"32\"\n",
      "2023-11-21 20:08:06,226  - max_epochs: \"10\"\n",
      "2023-11-21 20:08:06,226  - shuffle: \"True\"\n",
      "2023-11-21 20:08:06,227 ----------------------------------------------------------------------------------------------------\n",
      "2023-11-21 20:08:06,227 Plugins:\n",
      "2023-11-21 20:08:06,227  - AnnealOnPlateau | patience: '3', anneal_factor: '0.5', min_learning_rate: '0.0001'\n",
      "2023-11-21 20:08:06,228 ----------------------------------------------------------------------------------------------------\n",
      "2023-11-21 20:08:06,228 Final evaluation on model from best epoch (best-model.pt)\n",
      "2023-11-21 20:08:06,228  - metric: \"('micro avg', 'f1-score')\"\n",
      "2023-11-21 20:08:06,229 ----------------------------------------------------------------------------------------------------\n",
      "2023-11-21 20:08:06,229 Computation:\n",
      "2023-11-21 20:08:06,230  - compute on device: cpu\n",
      "2023-11-21 20:08:06,230  - embedding storage: cpu\n",
      "2023-11-21 20:08:06,230 ----------------------------------------------------------------------------------------------------\n",
      "2023-11-21 20:08:06,231 Model training base path: \"resources\\taggers\\ner\"\n",
      "2023-11-21 20:08:06,231 ----------------------------------------------------------------------------------------------------\n",
      "2023-11-21 20:08:06,232 ----------------------------------------------------------------------------------------------------\n",
      "2023-11-21 20:08:11,665 epoch 1 - iter 1/11 - loss 4.05502407 - time (sec): 5.43 - samples/sec: 210.76 - lr: 0.100000 - momentum: 0.000000\n",
      "2023-11-21 20:08:16,241 epoch 1 - iter 2/11 - loss 3.74806737 - time (sec): 10.01 - samples/sec: 230.01 - lr: 0.100000 - momentum: 0.000000\n",
      "2023-11-21 20:08:46,755 epoch 1 - iter 3/11 - loss 3.36925108 - time (sec): 40.52 - samples/sec: 92.81 - lr: 0.100000 - momentum: 0.000000\n",
      "2023-11-21 20:08:49,453 epoch 1 - iter 4/11 - loss 3.19273629 - time (sec): 43.22 - samples/sec: 106.85 - lr: 0.100000 - momentum: 0.000000\n",
      "2023-11-21 20:08:54,102 epoch 1 - iter 5/11 - loss 2.98781390 - time (sec): 47.87 - samples/sec: 119.33 - lr: 0.100000 - momentum: 0.000000\n",
      "2023-11-21 20:09:02,265 epoch 1 - iter 6/11 - loss 2.85565524 - time (sec): 56.03 - samples/sec: 124.50 - lr: 0.100000 - momentum: 0.000000\n",
      "2023-11-21 20:09:04,864 epoch 1 - iter 7/11 - loss 2.82148912 - time (sec): 58.63 - samples/sec: 134.64 - lr: 0.100000 - momentum: 0.000000\n",
      "2023-11-21 20:09:12,973 epoch 1 - iter 8/11 - loss 2.72317466 - time (sec): 66.74 - samples/sec: 137.01 - lr: 0.100000 - momentum: 0.000000\n",
      "2023-11-21 20:09:18,160 epoch 1 - iter 9/11 - loss 2.65523777 - time (sec): 71.93 - samples/sec: 144.62 - lr: 0.100000 - momentum: 0.000000\n",
      "2023-11-21 20:09:24,946 epoch 1 - iter 10/11 - loss 2.57707282 - time (sec): 78.71 - samples/sec: 149.99 - lr: 0.100000 - momentum: 0.000000\n",
      "2023-11-21 20:09:26,595 epoch 1 - iter 11/11 - loss 2.55244412 - time (sec): 80.36 - samples/sec: 152.76 - lr: 0.100000 - momentum: 0.000000\n",
      "2023-11-21 20:09:26,595 ----------------------------------------------------------------------------------------------------\n",
      "2023-11-21 20:09:26,596 EPOCH 1 done: loss 2.5524 - lr: 0.100000\n"
     ]
    },
    {
     "name": "stderr",
     "output_type": "stream",
     "text": [
      "100%|████████████████████████████████████████████████████████████████████████████████████| 3/3 [00:19<00:00,  6.51s/it]"
     ]
    },
    {
     "name": "stdout",
     "output_type": "stream",
     "text": [
      "2023-11-21 20:09:46,145 DEV : loss 1.8558348417282104 - f1-score (micro avg)  0.0\n",
      "2023-11-21 20:09:46,151  - 0 epochs without improvement\n",
      "2023-11-21 20:09:46,151 ----------------------------------------------------------------------------------------------------\n"
     ]
    },
    {
     "name": "stderr",
     "output_type": "stream",
     "text": [
      "\n"
     ]
    },
    {
     "name": "stdout",
     "output_type": "stream",
     "text": [
      "2023-11-21 20:09:52,164 epoch 2 - iter 1/11 - loss 1.85528871 - time (sec): 6.01 - samples/sec: 202.26 - lr: 0.100000 - momentum: 0.000000\n",
      "2023-11-21 20:09:57,086 epoch 2 - iter 2/11 - loss 2.10442218 - time (sec): 10.93 - samples/sec: 214.73 - lr: 0.100000 - momentum: 0.000000\n",
      "2023-11-21 20:10:00,559 epoch 2 - iter 3/11 - loss 2.07184394 - time (sec): 14.41 - samples/sec: 230.99 - lr: 0.100000 - momentum: 0.000000\n",
      "2023-11-21 20:10:07,080 epoch 2 - iter 4/11 - loss 2.07246581 - time (sec): 20.93 - samples/sec: 214.35 - lr: 0.100000 - momentum: 0.000000\n",
      "2023-11-21 20:10:10,408 epoch 2 - iter 5/11 - loss 2.03710311 - time (sec): 24.26 - samples/sec: 229.30 - lr: 0.100000 - momentum: 0.000000\n",
      "2023-11-21 20:10:46,561 epoch 2 - iter 6/11 - loss 2.30412519 - time (sec): 60.41 - samples/sec: 120.21 - lr: 0.100000 - momentum: 0.000000\n",
      "2023-11-21 20:10:51,802 epoch 2 - iter 7/11 - loss 2.30844110 - time (sec): 65.65 - samples/sec: 129.05 - lr: 0.100000 - momentum: 0.000000\n",
      "2023-11-21 20:10:55,255 epoch 2 - iter 8/11 - loss 2.26012552 - time (sec): 69.10 - samples/sec: 137.78 - lr: 0.100000 - momentum: 0.000000\n",
      "2023-11-21 20:10:58,446 epoch 2 - iter 9/11 - loss 2.23218683 - time (sec): 72.29 - samples/sec: 145.06 - lr: 0.100000 - momentum: 0.000000\n",
      "2023-11-21 20:11:05,988 epoch 2 - iter 10/11 - loss 2.26236008 - time (sec): 79.84 - samples/sec: 147.06 - lr: 0.100000 - momentum: 0.000000\n",
      "2023-11-21 20:11:07,918 epoch 2 - iter 11/11 - loss 2.25659567 - time (sec): 81.77 - samples/sec: 150.14 - lr: 0.100000 - momentum: 0.000000\n",
      "2023-11-21 20:11:07,919 ----------------------------------------------------------------------------------------------------\n",
      "2023-11-21 20:11:07,920 EPOCH 2 done: loss 2.2566 - lr: 0.100000\n"
     ]
    },
    {
     "name": "stderr",
     "output_type": "stream",
     "text": [
      "100%|████████████████████████████████████████████████████████████████████████████████████| 3/3 [00:00<00:00,  4.28it/s]"
     ]
    },
    {
     "name": "stdout",
     "output_type": "stream",
     "text": [
      "2023-11-21 20:11:08,629 DEV : loss 1.7843379974365234 - f1-score (micro avg)  0.0\n",
      "2023-11-21 20:11:08,634  - 0 epochs without improvement\n",
      "2023-11-21 20:11:08,635 ----------------------------------------------------------------------------------------------------\n"
     ]
    },
    {
     "name": "stderr",
     "output_type": "stream",
     "text": [
      "\n"
     ]
    },
    {
     "name": "stdout",
     "output_type": "stream",
     "text": [
      "2023-11-21 20:11:12,891 epoch 3 - iter 1/11 - loss 1.96791940 - time (sec): 4.26 - samples/sec: 271.86 - lr: 0.100000 - momentum: 0.000000\n",
      "2023-11-21 20:11:16,305 epoch 3 - iter 2/11 - loss 2.16600407 - time (sec): 7.67 - samples/sec: 280.18 - lr: 0.100000 - momentum: 0.000000\n",
      "2023-11-21 20:11:49,436 epoch 3 - iter 3/11 - loss 2.21715856 - time (sec): 40.80 - samples/sec: 92.16 - lr: 0.100000 - momentum: 0.000000\n",
      "2023-11-21 20:11:53,651 epoch 3 - iter 4/11 - loss 2.19269899 - time (sec): 45.02 - samples/sec: 105.45 - lr: 0.100000 - momentum: 0.000000\n",
      "2023-11-21 20:11:56,778 epoch 3 - iter 5/11 - loss 2.13648911 - time (sec): 48.14 - samples/sec: 117.32 - lr: 0.100000 - momentum: 0.000000\n",
      "2023-11-21 20:12:00,922 epoch 3 - iter 6/11 - loss 2.22504078 - time (sec): 52.29 - samples/sec: 130.09 - lr: 0.100000 - momentum: 0.000000\n",
      "2023-11-21 20:12:06,990 epoch 3 - iter 7/11 - loss 2.20973562 - time (sec): 58.35 - samples/sec: 137.38 - lr: 0.100000 - momentum: 0.000000\n",
      "2023-11-21 20:12:16,172 epoch 3 - iter 8/11 - loss 2.20943518 - time (sec): 67.54 - samples/sec: 139.94 - lr: 0.100000 - momentum: 0.000000\n",
      "2023-11-21 20:12:19,971 epoch 3 - iter 9/11 - loss 2.17827233 - time (sec): 71.34 - samples/sec: 147.16 - lr: 0.100000 - momentum: 0.000000\n",
      "2023-11-21 20:12:23,567 epoch 3 - iter 10/11 - loss 2.18718643 - time (sec): 74.93 - samples/sec: 155.54 - lr: 0.100000 - momentum: 0.000000\n",
      "2023-11-21 20:12:28,806 epoch 3 - iter 11/11 - loss 2.17567798 - time (sec): 80.17 - samples/sec: 153.12 - lr: 0.100000 - momentum: 0.000000\n",
      "2023-11-21 20:12:28,807 ----------------------------------------------------------------------------------------------------\n",
      "2023-11-21 20:12:28,807 EPOCH 3 done: loss 2.1757 - lr: 0.100000\n"
     ]
    },
    {
     "name": "stderr",
     "output_type": "stream",
     "text": [
      "100%|████████████████████████████████████████████████████████████████████████████████████| 3/3 [00:00<00:00,  4.23it/s]"
     ]
    },
    {
     "name": "stdout",
     "output_type": "stream",
     "text": [
      "2023-11-21 20:12:29,524 DEV : loss 1.8254510164260864 - f1-score (micro avg)  0.0\n",
      "2023-11-21 20:12:29,529  - 1 epochs without improvement\n",
      "2023-11-21 20:12:29,530 ----------------------------------------------------------------------------------------------------\n"
     ]
    },
    {
     "name": "stderr",
     "output_type": "stream",
     "text": [
      "\n"
     ]
    },
    {
     "name": "stdout",
     "output_type": "stream",
     "text": [
      "2023-11-21 20:12:33,365 epoch 4 - iter 1/11 - loss 2.04893040 - time (sec): 3.83 - samples/sec: 265.78 - lr: 0.100000 - momentum: 0.000000\n",
      "2023-11-21 20:13:06,383 epoch 4 - iter 2/11 - loss 1.95821619 - time (sec): 36.85 - samples/sec: 67.59 - lr: 0.100000 - momentum: 0.000000\n",
      "2023-11-21 20:13:09,981 epoch 4 - iter 3/11 - loss 1.90591025 - time (sec): 40.45 - samples/sec: 87.52 - lr: 0.100000 - momentum: 0.000000\n",
      "2023-11-21 20:13:14,097 epoch 4 - iter 4/11 - loss 1.99397316 - time (sec): 44.57 - samples/sec: 102.61 - lr: 0.100000 - momentum: 0.000000\n",
      "2023-11-21 20:13:20,740 epoch 4 - iter 5/11 - loss 2.00197050 - time (sec): 51.21 - samples/sec: 114.43 - lr: 0.100000 - momentum: 0.000000\n",
      "2023-11-21 20:13:25,696 epoch 4 - iter 6/11 - loss 2.02628848 - time (sec): 56.17 - samples/sec: 122.99 - lr: 0.100000 - momentum: 0.000000\n",
      "2023-11-21 20:13:29,665 epoch 4 - iter 7/11 - loss 2.03404231 - time (sec): 60.13 - samples/sec: 132.99 - lr: 0.100000 - momentum: 0.000000\n",
      "2023-11-21 20:13:36,994 epoch 4 - iter 8/11 - loss 2.10396276 - time (sec): 67.46 - samples/sec: 137.59 - lr: 0.100000 - momentum: 0.000000\n",
      "2023-11-21 20:13:42,511 epoch 4 - iter 9/11 - loss 2.07699707 - time (sec): 72.98 - samples/sec: 143.30 - lr: 0.100000 - momentum: 0.000000\n",
      "2023-11-21 20:13:47,410 epoch 4 - iter 10/11 - loss 2.08296387 - time (sec): 77.88 - samples/sec: 148.85 - lr: 0.100000 - momentum: 0.000000\n",
      "2023-11-21 20:13:49,661 epoch 4 - iter 11/11 - loss 2.06731897 - time (sec): 80.13 - samples/sec: 153.20 - lr: 0.100000 - momentum: 0.000000\n",
      "2023-11-21 20:13:49,661 ----------------------------------------------------------------------------------------------------\n",
      "2023-11-21 20:13:49,662 EPOCH 4 done: loss 2.0673 - lr: 0.100000\n"
     ]
    },
    {
     "name": "stderr",
     "output_type": "stream",
     "text": [
      "100%|████████████████████████████████████████████████████████████████████████████████████| 3/3 [00:00<00:00,  4.07it/s]"
     ]
    },
    {
     "name": "stdout",
     "output_type": "stream",
     "text": [
      "2023-11-21 20:13:50,405 DEV : loss 3.423095703125 - f1-score (micro avg)  0.0\n",
      "2023-11-21 20:13:50,411  - 2 epochs without improvement\n",
      "2023-11-21 20:13:50,411 ----------------------------------------------------------------------------------------------------\n"
     ]
    },
    {
     "name": "stderr",
     "output_type": "stream",
     "text": [
      "\n"
     ]
    },
    {
     "name": "stdout",
     "output_type": "stream",
     "text": [
      "2023-11-21 20:13:55,738 epoch 5 - iter 1/11 - loss 2.45560323 - time (sec): 5.33 - samples/sec: 230.94 - lr: 0.100000 - momentum: 0.000000\n",
      "2023-11-21 20:13:59,266 epoch 5 - iter 2/11 - loss 2.14083833 - time (sec): 8.85 - samples/sec: 255.01 - lr: 0.100000 - momentum: 0.000000\n",
      "2023-11-21 20:14:28,587 epoch 5 - iter 3/11 - loss 2.12358106 - time (sec): 38.18 - samples/sec: 99.33 - lr: 0.100000 - momentum: 0.000000\n",
      "2023-11-21 20:14:31,275 epoch 5 - iter 4/11 - loss 2.05981666 - time (sec): 40.86 - samples/sec: 115.75 - lr: 0.100000 - momentum: 0.000000\n",
      "2023-11-21 20:14:38,090 epoch 5 - iter 5/11 - loss 2.14172831 - time (sec): 47.68 - samples/sec: 125.13 - lr: 0.100000 - momentum: 0.000000\n",
      "2023-11-21 20:14:44,197 epoch 5 - iter 6/11 - loss 2.07647748 - time (sec): 53.78 - samples/sec: 128.64 - lr: 0.100000 - momentum: 0.000000\n",
      "2023-11-21 20:14:48,506 epoch 5 - iter 7/11 - loss 2.06457091 - time (sec): 58.09 - samples/sec: 138.64 - lr: 0.100000 - momentum: 0.000000\n",
      "2023-11-21 20:14:52,367 epoch 5 - iter 8/11 - loss 2.03707455 - time (sec): 61.96 - samples/sec: 148.56 - lr: 0.100000 - momentum: 0.000000\n",
      "2023-11-21 20:15:02,132 epoch 5 - iter 9/11 - loss 2.12424323 - time (sec): 71.72 - samples/sec: 146.82 - lr: 0.100000 - momentum: 0.000000\n",
      "2023-11-21 20:15:05,943 epoch 5 - iter 10/11 - loss 2.11114453 - time (sec): 75.53 - samples/sec: 154.03 - lr: 0.100000 - momentum: 0.000000\n",
      "2023-11-21 20:15:08,777 epoch 5 - iter 11/11 - loss 2.12339371 - time (sec): 78.37 - samples/sec: 156.65 - lr: 0.100000 - momentum: 0.000000\n",
      "2023-11-21 20:15:08,778 ----------------------------------------------------------------------------------------------------\n",
      "2023-11-21 20:15:08,778 EPOCH 5 done: loss 2.1234 - lr: 0.100000\n"
     ]
    },
    {
     "name": "stderr",
     "output_type": "stream",
     "text": [
      "100%|████████████████████████████████████████████████████████████████████████████████████| 3/3 [00:00<00:00,  4.41it/s]"
     ]
    },
    {
     "name": "stdout",
     "output_type": "stream",
     "text": [
      "2023-11-21 20:15:09,465 DEV : loss 1.8422666788101196 - f1-score (micro avg)  0.0\n",
      "2023-11-21 20:15:09,471  - 3 epochs without improvement\n",
      "2023-11-21 20:15:09,471 ----------------------------------------------------------------------------------------------------\n"
     ]
    },
    {
     "name": "stderr",
     "output_type": "stream",
     "text": [
      "\n"
     ]
    },
    {
     "name": "stdout",
     "output_type": "stream",
     "text": [
      "2023-11-21 20:15:16,794 epoch 6 - iter 1/11 - loss 1.84433088 - time (sec): 7.32 - samples/sec: 174.54 - lr: 0.100000 - momentum: 0.000000\n",
      "2023-11-21 20:15:22,172 epoch 6 - iter 2/11 - loss 1.92383452 - time (sec): 12.70 - samples/sec: 199.84 - lr: 0.100000 - momentum: 0.000000\n",
      "2023-11-21 20:15:25,218 epoch 6 - iter 3/11 - loss 1.93858964 - time (sec): 15.75 - samples/sec: 227.62 - lr: 0.100000 - momentum: 0.000000\n",
      "2023-11-21 20:15:28,329 epoch 6 - iter 4/11 - loss 1.95417941 - time (sec): 18.86 - samples/sec: 237.05 - lr: 0.100000 - momentum: 0.000000\n",
      "2023-11-21 20:15:31,297 epoch 6 - iter 5/11 - loss 1.95096831 - time (sec): 21.82 - samples/sec: 248.25 - lr: 0.100000 - momentum: 0.000000\n",
      "2023-11-21 20:16:00,765 epoch 6 - iter 6/11 - loss 1.95520361 - time (sec): 51.29 - samples/sec: 131.79 - lr: 0.100000 - momentum: 0.000000\n",
      "2023-11-21 20:16:06,312 epoch 6 - iter 7/11 - loss 1.94259947 - time (sec): 56.84 - samples/sec: 139.83 - lr: 0.100000 - momentum: 0.000000\n",
      "2023-11-21 20:16:12,424 epoch 6 - iter 8/11 - loss 2.22978301 - time (sec): 62.95 - samples/sec: 145.33 - lr: 0.100000 - momentum: 0.000000\n",
      "2023-11-21 20:16:17,192 epoch 6 - iter 9/11 - loss 2.21095964 - time (sec): 67.72 - samples/sec: 151.45 - lr: 0.100000 - momentum: 0.000000\n",
      "2023-11-21 20:16:22,248 epoch 6 - iter 10/11 - loss 2.21796691 - time (sec): 72.78 - samples/sec: 158.69 - lr: 0.100000 - momentum: 0.000000\n",
      "2023-11-21 20:16:26,636 epoch 6 - iter 11/11 - loss 2.19209712 - time (sec): 77.16 - samples/sec: 159.09 - lr: 0.100000 - momentum: 0.000000\n",
      "2023-11-21 20:16:26,636 ----------------------------------------------------------------------------------------------------\n",
      "2023-11-21 20:16:26,637 EPOCH 6 done: loss 2.1921 - lr: 0.100000\n"
     ]
    },
    {
     "name": "stderr",
     "output_type": "stream",
     "text": [
      "100%|████████████████████████████████████████████████████████████████████████████████████| 3/3 [00:00<00:00,  4.04it/s]"
     ]
    },
    {
     "name": "stdout",
     "output_type": "stream",
     "text": [
      "2023-11-21 20:16:27,386 DEV : loss 1.763587474822998 - f1-score (micro avg)  0.0\n",
      "2023-11-21 20:16:27,392  - 0 epochs without improvement\n",
      "2023-11-21 20:16:27,392 ----------------------------------------------------------------------------------------------------\n"
     ]
    },
    {
     "name": "stderr",
     "output_type": "stream",
     "text": [
      "\n"
     ]
    },
    {
     "name": "stdout",
     "output_type": "stream",
     "text": [
      "2023-11-21 20:16:31,008 epoch 7 - iter 1/11 - loss 1.84910517 - time (sec): 3.61 - samples/sec: 273.61 - lr: 0.100000 - momentum: 0.000000\n",
      "2023-11-21 20:16:34,076 epoch 7 - iter 2/11 - loss 1.91803865 - time (sec): 6.68 - samples/sec: 291.20 - lr: 0.100000 - momentum: 0.000000\n",
      "2023-11-21 20:16:39,548 epoch 7 - iter 3/11 - loss 1.84984484 - time (sec): 12.15 - samples/sec: 264.75 - lr: 0.100000 - momentum: 0.000000\n",
      "2023-11-21 20:16:42,369 epoch 7 - iter 4/11 - loss 1.80924628 - time (sec): 14.98 - samples/sec: 278.11 - lr: 0.100000 - momentum: 0.000000\n",
      "2023-11-21 20:16:46,781 epoch 7 - iter 5/11 - loss 1.81148668 - time (sec): 19.39 - samples/sec: 273.51 - lr: 0.100000 - momentum: 0.000000\n",
      "2023-11-21 20:17:17,741 epoch 7 - iter 6/11 - loss 1.82817548 - time (sec): 50.35 - samples/sec: 134.72 - lr: 0.100000 - momentum: 0.000000\n",
      "2023-11-21 20:17:21,635 epoch 7 - iter 7/11 - loss 1.83063962 - time (sec): 54.24 - samples/sec: 144.61 - lr: 0.100000 - momentum: 0.000000\n",
      "2023-11-21 20:17:29,637 epoch 7 - iter 8/11 - loss 1.87082373 - time (sec): 62.24 - samples/sec: 147.87 - lr: 0.100000 - momentum: 0.000000\n",
      "2023-11-21 20:17:36,518 epoch 7 - iter 9/11 - loss 1.85137425 - time (sec): 69.12 - samples/sec: 150.48 - lr: 0.100000 - momentum: 0.000000\n",
      "2023-11-21 20:17:41,711 epoch 7 - iter 10/11 - loss 1.83529422 - time (sec): 74.32 - samples/sec: 156.34 - lr: 0.100000 - momentum: 0.000000\n",
      "2023-11-21 20:17:44,074 epoch 7 - iter 11/11 - loss 1.81766480 - time (sec): 76.68 - samples/sec: 160.09 - lr: 0.100000 - momentum: 0.000000\n",
      "2023-11-21 20:17:44,075 ----------------------------------------------------------------------------------------------------\n",
      "2023-11-21 20:17:44,075 EPOCH 7 done: loss 1.8177 - lr: 0.100000\n"
     ]
    },
    {
     "name": "stderr",
     "output_type": "stream",
     "text": [
      "100%|████████████████████████████████████████████████████████████████████████████████████| 3/3 [00:00<00:00,  4.19it/s]"
     ]
    },
    {
     "name": "stdout",
     "output_type": "stream",
     "text": [
      "2023-11-21 20:17:44,798 DEV : loss 2.0991368293762207 - f1-score (micro avg)  0.0\n",
      "2023-11-21 20:17:44,804  - 1 epochs without improvement\n",
      "2023-11-21 20:17:44,804 ----------------------------------------------------------------------------------------------------\n"
     ]
    },
    {
     "name": "stderr",
     "output_type": "stream",
     "text": [
      "\n"
     ]
    },
    {
     "name": "stdout",
     "output_type": "stream",
     "text": [
      "2023-11-21 20:17:48,109 epoch 8 - iter 1/11 - loss 1.74594960 - time (sec): 3.30 - samples/sec: 284.50 - lr: 0.100000 - momentum: 0.000000\n",
      "2023-11-21 20:17:52,747 epoch 8 - iter 2/11 - loss 1.63098829 - time (sec): 7.94 - samples/sec: 255.85 - lr: 0.100000 - momentum: 0.000000\n",
      "2023-11-21 20:17:58,274 epoch 8 - iter 3/11 - loss 1.71546197 - time (sec): 13.47 - samples/sec: 246.34 - lr: 0.100000 - momentum: 0.000000\n",
      "2023-11-21 20:18:06,440 epoch 8 - iter 4/11 - loss 1.74957238 - time (sec): 21.63 - samples/sec: 213.41 - lr: 0.100000 - momentum: 0.000000\n",
      "2023-11-21 20:18:35,921 epoch 8 - iter 5/11 - loss 1.70907284 - time (sec): 51.12 - samples/sec: 120.65 - lr: 0.100000 - momentum: 0.000000\n",
      "2023-11-21 20:18:39,637 epoch 8 - iter 6/11 - loss 1.68586504 - time (sec): 54.83 - samples/sec: 132.84 - lr: 0.100000 - momentum: 0.000000\n",
      "2023-11-21 20:18:43,585 epoch 8 - iter 7/11 - loss 1.70692414 - time (sec): 58.78 - samples/sec: 143.88 - lr: 0.100000 - momentum: 0.000000\n",
      "2023-11-21 20:18:50,411 epoch 8 - iter 8/11 - loss 1.71235889 - time (sec): 65.61 - samples/sec: 148.23 - lr: 0.100000 - momentum: 0.000000\n",
      "2023-11-21 20:18:53,562 epoch 8 - iter 9/11 - loss 1.69693816 - time (sec): 68.76 - samples/sec: 155.49 - lr: 0.100000 - momentum: 0.000000\n",
      "2023-11-21 20:18:59,693 epoch 8 - iter 10/11 - loss 1.69084422 - time (sec): 74.89 - samples/sec: 156.83 - lr: 0.100000 - momentum: 0.000000\n",
      "2023-11-21 20:19:01,390 epoch 8 - iter 11/11 - loss 1.69216347 - time (sec): 76.58 - samples/sec: 160.29 - lr: 0.100000 - momentum: 0.000000\n",
      "2023-11-21 20:19:01,391 ----------------------------------------------------------------------------------------------------\n",
      "2023-11-21 20:19:01,391 EPOCH 8 done: loss 1.6922 - lr: 0.100000\n"
     ]
    },
    {
     "name": "stderr",
     "output_type": "stream",
     "text": [
      "100%|████████████████████████████████████████████████████████████████████████████████████| 3/3 [00:00<00:00,  4.43it/s]"
     ]
    },
    {
     "name": "stdout",
     "output_type": "stream",
     "text": [
      "2023-11-21 20:19:02,077 DEV : loss 1.8269473314285278 - f1-score (micro avg)  0.0\n",
      "2023-11-21 20:19:02,083  - 2 epochs without improvement\n",
      "2023-11-21 20:19:02,084 ----------------------------------------------------------------------------------------------------\n"
     ]
    },
    {
     "name": "stderr",
     "output_type": "stream",
     "text": [
      "\n"
     ]
    },
    {
     "name": "stdout",
     "output_type": "stream",
     "text": [
      "2023-11-21 20:19:06,685 epoch 9 - iter 1/11 - loss 1.68371928 - time (sec): 4.60 - samples/sec: 241.26 - lr: 0.100000 - momentum: 0.000000\n",
      "2023-11-21 20:19:13,881 epoch 9 - iter 2/11 - loss 1.53284221 - time (sec): 11.80 - samples/sec: 194.46 - lr: 0.100000 - momentum: 0.000000\n",
      "2023-11-21 20:19:17,839 epoch 9 - iter 3/11 - loss 1.52207039 - time (sec): 15.75 - samples/sec: 208.58 - lr: 0.100000 - momentum: 0.000000\n",
      "2023-11-21 20:19:23,265 epoch 9 - iter 4/11 - loss 1.58171401 - time (sec): 21.18 - samples/sec: 209.77 - lr: 0.100000 - momentum: 0.000000\n",
      "2023-11-21 20:19:28,074 epoch 9 - iter 5/11 - loss 1.56059878 - time (sec): 25.99 - samples/sec: 207.74 - lr: 0.100000 - momentum: 0.000000\n",
      "2023-11-21 20:19:35,175 epoch 9 - iter 6/11 - loss 1.58081592 - time (sec): 33.09 - samples/sec: 200.91 - lr: 0.100000 - momentum: 0.000000\n",
      "2023-11-21 20:20:06,174 epoch 9 - iter 7/11 - loss 1.66806591 - time (sec): 64.09 - samples/sec: 126.67 - lr: 0.100000 - momentum: 0.000000\n",
      "2023-11-21 20:20:13,068 epoch 9 - iter 8/11 - loss 1.67501549 - time (sec): 70.98 - samples/sec: 134.92 - lr: 0.100000 - momentum: 0.000000\n",
      "2023-11-21 20:20:16,342 epoch 9 - iter 9/11 - loss 1.62323799 - time (sec): 74.26 - samples/sec: 143.80 - lr: 0.100000 - momentum: 0.000000\n",
      "2023-11-21 20:20:20,986 epoch 9 - iter 10/11 - loss 1.60036123 - time (sec): 78.90 - samples/sec: 148.95 - lr: 0.100000 - momentum: 0.000000\n",
      "2023-11-21 20:20:22,557 epoch 9 - iter 11/11 - loss 1.59517627 - time (sec): 80.47 - samples/sec: 152.55 - lr: 0.100000 - momentum: 0.000000\n",
      "2023-11-21 20:20:22,558 ----------------------------------------------------------------------------------------------------\n",
      "2023-11-21 20:20:22,558 EPOCH 9 done: loss 1.5952 - lr: 0.100000\n"
     ]
    },
    {
     "name": "stderr",
     "output_type": "stream",
     "text": [
      "100%|████████████████████████████████████████████████████████████████████████████████████| 3/3 [00:00<00:00,  4.41it/s]"
     ]
    },
    {
     "name": "stdout",
     "output_type": "stream",
     "text": [
      "2023-11-21 20:20:23,246 DEV : loss 1.5062000751495361 - f1-score (micro avg)  0.0\n",
      "2023-11-21 20:20:23,252  - 0 epochs without improvement\n",
      "2023-11-21 20:20:23,253 ----------------------------------------------------------------------------------------------------\n"
     ]
    },
    {
     "name": "stderr",
     "output_type": "stream",
     "text": [
      "\n"
     ]
    },
    {
     "name": "stdout",
     "output_type": "stream",
     "text": [
      "2023-11-21 20:20:55,191 epoch 10 - iter 1/11 - loss 1.47015643 - time (sec): 31.94 - samples/sec: 51.04 - lr: 0.100000 - momentum: 0.000000\n",
      "2023-11-21 20:20:58,293 epoch 10 - iter 2/11 - loss 1.45092912 - time (sec): 35.04 - samples/sec: 75.32 - lr: 0.100000 - momentum: 0.000000\n",
      "2023-11-21 20:21:03,751 epoch 10 - iter 3/11 - loss 1.42681273 - time (sec): 40.50 - samples/sec: 97.73 - lr: 0.100000 - momentum: 0.000000\n",
      "2023-11-21 20:21:07,625 epoch 10 - iter 4/11 - loss 1.38337053 - time (sec): 44.37 - samples/sec: 114.04 - lr: 0.100000 - momentum: 0.000000\n",
      "2023-11-21 20:21:11,773 epoch 10 - iter 5/11 - loss 1.40661491 - time (sec): 48.52 - samples/sec: 124.82 - lr: 0.100000 - momentum: 0.000000\n",
      "2023-11-21 20:21:20,190 epoch 10 - iter 6/11 - loss 1.37404199 - time (sec): 56.94 - samples/sec: 129.69 - lr: 0.100000 - momentum: 0.000000\n",
      "2023-11-21 20:21:27,454 epoch 10 - iter 7/11 - loss 1.37480749 - time (sec): 64.20 - samples/sec: 132.35 - lr: 0.100000 - momentum: 0.000000\n",
      "2023-11-21 20:21:30,605 epoch 10 - iter 8/11 - loss 1.36318249 - time (sec): 67.35 - samples/sec: 140.40 - lr: 0.100000 - momentum: 0.000000\n",
      "2023-11-21 20:21:36,282 epoch 10 - iter 9/11 - loss 1.34775064 - time (sec): 73.03 - samples/sec: 144.11 - lr: 0.100000 - momentum: 0.000000\n",
      "2023-11-21 20:21:40,071 epoch 10 - iter 10/11 - loss 1.34421669 - time (sec): 76.82 - samples/sec: 150.98 - lr: 0.100000 - momentum: 0.000000\n",
      "2023-11-21 20:21:43,482 epoch 10 - iter 11/11 - loss 1.33137812 - time (sec): 80.23 - samples/sec: 153.01 - lr: 0.100000 - momentum: 0.000000\n",
      "2023-11-21 20:21:43,483 ----------------------------------------------------------------------------------------------------\n",
      "2023-11-21 20:21:43,483 EPOCH 10 done: loss 1.3314 - lr: 0.100000\n"
     ]
    },
    {
     "name": "stderr",
     "output_type": "stream",
     "text": [
      "100%|████████████████████████████████████████████████████████████████████████████████████| 3/3 [00:00<00:00,  4.29it/s]"
     ]
    },
    {
     "name": "stdout",
     "output_type": "stream",
     "text": [
      "2023-11-21 20:21:44,188 DEV : loss 1.9304167032241821 - f1-score (micro avg)  0.0\n",
      "2023-11-21 20:21:44,193  - 1 epochs without improvement\n"
     ]
    },
    {
     "name": "stderr",
     "output_type": "stream",
     "text": [
      "\n"
     ]
    },
    {
     "name": "stdout",
     "output_type": "stream",
     "text": [
      "2023-11-21 20:21:44,506 ----------------------------------------------------------------------------------------------------\n",
      "2023-11-21 20:21:44,507 Testing using last state of model ...\n"
     ]
    },
    {
     "name": "stderr",
     "output_type": "stream",
     "text": [
      "100%|████████████████████████████████████████████████████████████████████████████████████| 3/3 [02:37<00:00, 52.62s/it]"
     ]
    },
    {
     "name": "stdout",
     "output_type": "stream",
     "text": [
      "2023-11-21 20:24:22,371 \n",
      "Results:\n",
      "- F-score (micro) 0.0821\n",
      "- F-score (macro) 0.028\n",
      "- Accuracy 0.0475\n",
      "\n",
      "By class:\n",
      "              precision    recall  f1-score   support\n",
      "\n",
      "        FUND     0.1126    0.3312    0.1680       157\n",
      "         IND     0.0000    0.0000    0.0000       295\n",
      "        GRNB     0.0000    0.0000    0.0000       160\n",
      "         UNI     0.0000    0.0000    0.0000        99\n",
      "        MISC     0.0000    0.0000    0.0000        82\n",
      "         COR     0.0000    0.0000    0.0000        12\n",
      "\n",
      "   micro avg     0.1126    0.0646    0.0821       805\n",
      "   macro avg     0.0188    0.0552    0.0280       805\n",
      "weighted avg     0.0220    0.0646    0.0328       805\n",
      "\n",
      "2023-11-21 20:24:22,371 ----------------------------------------------------------------------------------------------------\n"
     ]
    },
    {
     "name": "stderr",
     "output_type": "stream",
     "text": [
      "\n"
     ]
    },
    {
     "data": {
      "text/plain": [
       "{'test_score': 0.08208366219415943}"
      ]
     },
     "execution_count": 4,
     "metadata": {},
     "output_type": "execute_result"
    }
   ],
   "source": [
    "model = SequenceTagger(hidden_size=256,\n",
    "                        embeddings=stacked_embeddings,\n",
    "                        tag_dictionary=label_dict,\n",
    "                        tag_type=label_type)\n",
    "\n",
    "# 6. initialize trainer\n",
    "trainer = ModelTrainer(model, corpus)\n",
    "\n",
    "# 7. start training\n",
    "trainer.train('resources/taggers/ner',\n",
    "              learning_rate=0.1,\n",
    "              mini_batch_size=32,\n",
    "              mini_batch_chunk_size=8,\n",
    "              max_epochs=10)"
   ]
  },
  {
   "cell_type": "markdown",
   "id": "d1474a95",
   "metadata": {},
   "source": [
    "# TARS"
   ]
  },
  {
   "cell_type": "code",
   "execution_count": 3,
   "id": "511cc5cd",
   "metadata": {},
   "outputs": [
    {
     "name": "stdout",
     "output_type": "stream",
     "text": [
      "2023-11-21 21:06:03,740 TARS initialized without a task. You need to call .add_and_switch_to_new_task() before training this model\n"
     ]
    }
   ],
   "source": [
    "tars = TARSClassifier.load(\"tars-base\")\n",
    "tars.add_and_switch_to_new_task(task_name=\"question classification\",\n",
    "                                label_dictionary=label_dict,\n",
    "                                label_type=label_type,\n",
    "                                )"
   ]
  },
  {
   "cell_type": "code",
   "execution_count": 4,
   "id": "0d647b29",
   "metadata": {},
   "outputs": [],
   "source": [
    "trainer = ModelTrainer(tars, corpus)"
   ]
  },
  {
   "cell_type": "code",
   "execution_count": null,
   "id": "d0afbe24",
   "metadata": {},
   "outputs": [
    {
     "name": "stdout",
     "output_type": "stream",
     "text": [
      "2023-11-21 21:06:03,801 ----------------------------------------------------------------------------------------------------\n",
      "2023-11-21 21:06:03,802 Model: \"TARSClassifier(\n",
      "  (tars_model): TextClassifier(\n",
      "    (embeddings): TransformerDocumentEmbeddings(\n",
      "      (model): BertModel(\n",
      "        (embeddings): BertEmbeddings(\n",
      "          (word_embeddings): Embedding(30522, 768, padding_idx=0)\n",
      "          (position_embeddings): Embedding(512, 768)\n",
      "          (token_type_embeddings): Embedding(2, 768)\n",
      "          (LayerNorm): LayerNorm((768,), eps=1e-12, elementwise_affine=True)\n",
      "          (dropout): Dropout(p=0.1, inplace=False)\n",
      "        )\n",
      "        (encoder): BertEncoder(\n",
      "          (layer): ModuleList(\n",
      "            (0-11): 12 x BertLayer(\n",
      "              (attention): BertAttention(\n",
      "                (self): BertSelfAttention(\n",
      "                  (query): Linear(in_features=768, out_features=768, bias=True)\n",
      "                  (key): Linear(in_features=768, out_features=768, bias=True)\n",
      "                  (value): Linear(in_features=768, out_features=768, bias=True)\n",
      "                  (dropout): Dropout(p=0.1, inplace=False)\n",
      "                )\n",
      "                (output): BertSelfOutput(\n",
      "                  (dense): Linear(in_features=768, out_features=768, bias=True)\n",
      "                  (LayerNorm): LayerNorm((768,), eps=1e-12, elementwise_affine=True)\n",
      "                  (dropout): Dropout(p=0.1, inplace=False)\n",
      "                )\n",
      "              )\n",
      "              (intermediate): BertIntermediate(\n",
      "                (dense): Linear(in_features=768, out_features=3072, bias=True)\n",
      "                (intermediate_act_fn): GELUActivation()\n",
      "              )\n",
      "              (output): BertOutput(\n",
      "                (dense): Linear(in_features=3072, out_features=768, bias=True)\n",
      "                (LayerNorm): LayerNorm((768,), eps=1e-12, elementwise_affine=True)\n",
      "                (dropout): Dropout(p=0.1, inplace=False)\n",
      "              )\n",
      "            )\n",
      "          )\n",
      "        )\n",
      "        (pooler): BertPooler(\n",
      "          (dense): Linear(in_features=768, out_features=768, bias=True)\n",
      "          (activation): Tanh()\n",
      "        )\n",
      "      )\n",
      "    )\n",
      "    (decoder): Linear(in_features=768, out_features=2, bias=True)\n",
      "    (dropout): Dropout(p=0.0, inplace=False)\n",
      "    (locked_dropout): LockedDropout(p=0.0)\n",
      "    (word_dropout): WordDropout(p=0.0)\n",
      "    (loss_function): CrossEntropyLoss()\n",
      "  )\n",
      ")\"\n",
      "2023-11-21 21:06:03,802 ----------------------------------------------------------------------------------------------------\n",
      "2023-11-21 21:06:03,803 Corpus: 1145 train + 150 dev + 164 test sentences\n",
      "2023-11-21 21:06:03,803 ----------------------------------------------------------------------------------------------------\n",
      "2023-11-21 21:06:03,803 Train:  1145 sentences\n",
      "2023-11-21 21:06:03,804         (train_with_dev=False, train_with_test=False)\n",
      "2023-11-21 21:06:03,804 ----------------------------------------------------------------------------------------------------\n",
      "2023-11-21 21:06:03,804 Training Params:\n",
      "2023-11-21 21:06:03,805  - learning_rate: \"0.01\" \n",
      "2023-11-21 21:06:03,805  - mini_batch_size: \"64\"\n",
      "2023-11-21 21:06:03,805  - max_epochs: \"10\"\n",
      "2023-11-21 21:06:03,806  - shuffle: \"True\"\n",
      "2023-11-21 21:06:03,806 ----------------------------------------------------------------------------------------------------\n",
      "2023-11-21 21:06:03,806 Plugins:\n",
      "2023-11-21 21:06:03,806  - AnnealOnPlateau | patience: '3', anneal_factor: '0.5', min_learning_rate: '0.0001'\n",
      "2023-11-21 21:06:03,807 ----------------------------------------------------------------------------------------------------\n",
      "2023-11-21 21:06:03,807 Final evaluation on model from best epoch (best-model.pt)\n",
      "2023-11-21 21:06:03,807  - metric: \"('micro avg', 'f1-score')\"\n",
      "2023-11-21 21:06:03,808 ----------------------------------------------------------------------------------------------------\n",
      "2023-11-21 21:06:03,808 Computation:\n",
      "2023-11-21 21:06:03,808  - compute on device: cpu\n",
      "2023-11-21 21:06:03,808  - embedding storage: cpu\n",
      "2023-11-21 21:06:03,809 ----------------------------------------------------------------------------------------------------\n",
      "2023-11-21 21:06:03,809 Model training base path: \"resources\\taggers\\trec\"\n",
      "2023-11-21 21:06:03,809 ----------------------------------------------------------------------------------------------------\n",
      "2023-11-21 21:06:03,809 ----------------------------------------------------------------------------------------------------\n",
      "2023-11-21 21:06:21,526 epoch 1 - iter 1/18 - loss 1.47998604 - time (sec): 17.69 - samples/sec: 16.85 - lr: 0.010000 - momentum: 0.000000\n",
      "2023-11-21 21:06:39,672 epoch 1 - iter 2/18 - loss 1.23099442 - time (sec): 35.84 - samples/sec: 16.91 - lr: 0.010000 - momentum: 0.000000\n",
      "2023-11-21 21:07:00,093 epoch 1 - iter 3/18 - loss 1.00950513 - time (sec): 56.26 - samples/sec: 16.55 - lr: 0.010000 - momentum: 0.000000\n",
      "2023-11-21 21:07:20,262 epoch 1 - iter 4/18 - loss 0.91769431 - time (sec): 76.43 - samples/sec: 16.19 - lr: 0.010000 - momentum: 0.000000\n",
      "2023-11-21 21:07:47,319 epoch 1 - iter 5/18 - loss 0.86821603 - time (sec): 103.48 - samples/sec: 15.23 - lr: 0.010000 - momentum: 0.000000\n",
      "2023-11-21 21:08:03,396 epoch 1 - iter 6/18 - loss 0.81208510 - time (sec): 119.56 - samples/sec: 16.00 - lr: 0.010000 - momentum: 0.000000\n",
      "2023-11-21 21:08:19,567 epoch 1 - iter 7/18 - loss 0.78414521 - time (sec): 135.73 - samples/sec: 16.45 - lr: 0.010000 - momentum: 0.000000\n",
      "2023-11-21 21:08:33,927 epoch 1 - iter 8/18 - loss 0.74381760 - time (sec): 150.09 - samples/sec: 16.94 - lr: 0.010000 - momentum: 0.000000\n",
      "2023-11-21 21:09:10,191 epoch 1 - iter 9/18 - loss 0.71853749 - time (sec): 186.35 - samples/sec: 15.36 - lr: 0.010000 - momentum: 0.000000\n",
      "2023-11-21 21:09:29,291 epoch 1 - iter 10/18 - loss 0.69380128 - time (sec): 205.45 - samples/sec: 15.55 - lr: 0.010000 - momentum: 0.000000\n",
      "2023-11-21 21:09:45,417 epoch 1 - iter 11/18 - loss 0.67721765 - time (sec): 221.58 - samples/sec: 15.85 - lr: 0.010000 - momentum: 0.000000\n",
      "2023-11-21 21:10:05,921 epoch 1 - iter 12/18 - loss 0.65626393 - time (sec): 242.08 - samples/sec: 15.88 - lr: 0.010000 - momentum: 0.000000\n",
      "2023-11-21 21:10:26,072 epoch 1 - iter 13/18 - loss 0.63798536 - time (sec): 262.24 - samples/sec: 15.98 - lr: 0.010000 - momentum: 0.000000\n",
      "2023-11-21 21:10:54,194 epoch 1 - iter 14/18 - loss 0.62542088 - time (sec): 290.36 - samples/sec: 15.53 - lr: 0.010000 - momentum: 0.000000\n",
      "2023-11-21 21:11:12,164 epoch 1 - iter 15/18 - loss 0.60811254 - time (sec): 308.33 - samples/sec: 15.63 - lr: 0.010000 - momentum: 0.000000\n",
      "2023-11-21 21:11:28,936 epoch 1 - iter 16/18 - loss 0.59478254 - time (sec): 325.10 - samples/sec: 15.88 - lr: 0.010000 - momentum: 0.000000\n",
      "2023-11-21 21:11:46,362 epoch 1 - iter 17/18 - loss 0.58460650 - time (sec): 342.53 - samples/sec: 15.97 - lr: 0.010000 - momentum: 0.000000\n",
      "2023-11-21 21:12:03,974 epoch 1 - iter 18/18 - loss 0.57147862 - time (sec): 360.14 - samples/sec: 16.00 - lr: 0.010000 - momentum: 0.000000\n",
      "2023-11-21 21:12:03,974 ----------------------------------------------------------------------------------------------------\n",
      "2023-11-21 21:12:03,975 EPOCH 1 done: loss 0.5715 - lr: 0.010000\n"
     ]
    },
    {
     "name": "stderr",
     "output_type": "stream",
     "text": [
      "100%|████████████████████████████████████████████████████████████████████████████████████| 3/3 [00:21<00:00,  7.13s/it]"
     ]
    },
    {
     "name": "stdout",
     "output_type": "stream",
     "text": [
      "2023-11-21 21:12:25,378 DEV : loss 0.5616104602813721 - f1-score (micro avg)  0.0\n",
      "2023-11-21 21:12:25,381  - 0 epochs without improvement\n",
      "2023-11-21 21:12:25,382 ----------------------------------------------------------------------------------------------------\n"
     ]
    },
    {
     "name": "stderr",
     "output_type": "stream",
     "text": [
      "\n"
     ]
    },
    {
     "name": "stdout",
     "output_type": "stream",
     "text": [
      "2023-11-21 21:12:44,534 epoch 2 - iter 1/18 - loss 0.40945269 - time (sec): 19.13 - samples/sec: 16.57 - lr: 0.010000 - momentum: 0.000000\n",
      "2023-11-21 21:12:57,779 epoch 2 - iter 2/18 - loss 0.39493421 - time (sec): 32.37 - samples/sec: 19.61 - lr: 0.010000 - momentum: 0.000000\n",
      "2023-11-21 21:13:15,389 epoch 2 - iter 3/18 - loss 0.37337932 - time (sec): 49.98 - samples/sec: 19.37 - lr: 0.010000 - momentum: 0.000000\n",
      "2023-11-21 21:13:37,062 epoch 2 - iter 4/18 - loss 0.36667196 - time (sec): 71.66 - samples/sec: 17.81 - lr: 0.010000 - momentum: 0.000000\n",
      "2023-11-21 21:13:52,457 epoch 2 - iter 5/18 - loss 0.37031847 - time (sec): 87.05 - samples/sec: 18.10 - lr: 0.010000 - momentum: 0.000000\n",
      "2023-11-21 21:14:08,492 epoch 2 - iter 6/18 - loss 0.36661892 - time (sec): 103.09 - samples/sec: 18.42 - lr: 0.010000 - momentum: 0.000000\n",
      "2023-11-21 21:14:32,579 epoch 2 - iter 7/18 - loss 0.35784856 - time (sec): 127.17 - samples/sec: 17.50 - lr: 0.010000 - momentum: 0.000000\n",
      "2023-11-21 21:14:49,906 epoch 2 - iter 8/18 - loss 0.34881515 - time (sec): 144.50 - samples/sec: 17.49 - lr: 0.010000 - momentum: 0.000000\n",
      "2023-11-21 21:15:10,321 epoch 2 - iter 9/18 - loss 0.34786363 - time (sec): 164.92 - samples/sec: 17.35 - lr: 0.010000 - momentum: 0.000000\n",
      "2023-11-21 21:15:32,399 epoch 2 - iter 10/18 - loss 0.34505415 - time (sec): 186.99 - samples/sec: 17.08 - lr: 0.010000 - momentum: 0.000000\n",
      "2023-11-21 21:15:49,315 epoch 2 - iter 11/18 - loss 0.34287489 - time (sec): 203.91 - samples/sec: 17.23 - lr: 0.010000 - momentum: 0.000000\n",
      "2023-11-21 21:16:08,884 epoch 2 - iter 12/18 - loss 0.34734153 - time (sec): 223.48 - samples/sec: 17.16 - lr: 0.010000 - momentum: 0.000000\n",
      "2023-11-21 21:16:27,490 epoch 2 - iter 13/18 - loss 0.34649358 - time (sec): 242.09 - samples/sec: 17.13 - lr: 0.010000 - momentum: 0.000000\n",
      "2023-11-21 21:16:54,430 epoch 2 - iter 14/18 - loss 0.34321236 - time (sec): 269.03 - samples/sec: 16.66 - lr: 0.010000 - momentum: 0.000000\n"
     ]
    }
   ],
   "source": [
    "trainer.train(base_path='resources/taggers/trec',  # path to store the model artifacts\n",
    "              learning_rate=0.01,  # use very small learning rate\n",
    "              mini_batch_size=64,\n",
    "              mini_batch_chunk_size=4,  # optionally set this if transformer is too much for your machine\n",
    "              max_epochs=10,  # terminate after 10 epochs\n",
    "              )"
   ]
  },
  {
   "cell_type": "code",
   "execution_count": null,
   "id": "59f410e6",
   "metadata": {},
   "outputs": [],
   "source": []
  }
 ],
 "metadata": {
  "kernelspec": {
   "display_name": "Python 3 (ipykernel)",
   "language": "python",
   "name": "python3"
  },
  "language_info": {
   "codemirror_mode": {
    "name": "ipython",
    "version": 3
   },
   "file_extension": ".py",
   "mimetype": "text/x-python",
   "name": "python",
   "nbconvert_exporter": "python",
   "pygments_lexer": "ipython3",
   "version": "3.8.3"
  }
 },
 "nbformat": 4,
 "nbformat_minor": 5
}
